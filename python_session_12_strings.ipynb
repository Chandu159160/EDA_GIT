{
 "cells": [
  {
   "cell_type": "code",
   "execution_count": null,
   "id": "5a4c2b14-c786-4279-af52-7e26dd7b0423",
   "metadata": {},
   "outputs": [],
   "source": [
    "#############3 python divided into 3 parts##################\n",
    "--------Basics\n",
    "1)variabels\n",
    "2)data types\n",
    "3)type conversions\n",
    "4)eval input\n",
    "5)packages\n",
    "6)conditional statements\n",
    "7)try-except\n",
    "8)functions\n",
    "9)for\n",
    "10)while\n",
    "-----------Intermediate\n",
    "11)strings\n",
    "12)lists\n",
    "13)dictionary\n",
    "14)tuples\n",
    "15)sets\n",
    "16)lambda functions\n",
    "17)file handling session\n",
    "--------------Advanced\n",
    "18)OOPS"
   ]
  },
  {
   "cell_type": "code",
   "execution_count": 3,
   "id": "0fd0add8-cf5a-4462-a1a1-10a5ccb762e9",
   "metadata": {},
   "outputs": [
    {
     "name": "stdout",
     "output_type": "stream",
     "text": [
      "10\n",
      "6\n",
      "3\n",
      "6\n"
     ]
    }
   ],
   "source": [
    "# 5 random numbers\n",
    "import random\n",
    "i=1\n",
    "while i<5:\n",
    "    num=random.randint(1,10)\n",
    "    print(num)\n",
    "    i=i+1"
   ]
  },
  {
   "cell_type": "markdown",
   "id": "33d064ae-47c2-4e89-acc8-4127e6199548",
   "metadata": {},
   "source": [
    "# STRINGS\n",
    "======================= PART-1 ================================\n",
    "- INITIALIZATION\n",
    "\n",
    "- TYPE\n",
    "\n",
    "- LEN\n",
    "\n",
    "- max\n",
    "\n",
    "- min\n",
    "\n",
    "- SORTED\n",
    "\n",
    "- REVERSED\n",
    "\n",
    "- in \n",
    "\n",
    "- for loop using in\n",
    "\n",
    "- index \n",
    "\n",
    "- for loop using index\n",
    "\n",
    "- mutable \n",
    "\n",
    "- concatination\n",
    "\n",
    "- slice\n",
    "\n",
    "============================= PART-2 ============================\n",
    "\n",
    "- methods"
   ]
  },
  {
   "cell_type": "markdown",
   "id": "62f8c7f5-abba-4042-93fa-cde1b0b7928f",
   "metadata": {},
   "source": [
    "# INITIALIZATION"
   ]
  },
  {
   "cell_type": "code",
   "execution_count": 5,
   "id": "76ff9db8-6ceb-4254-b81e-77b09b133ad9",
   "metadata": {},
   "outputs": [
    {
     "data": {
      "text/plain": [
       "'python'"
      ]
     },
     "execution_count": 5,
     "metadata": {},
     "output_type": "execute_result"
    }
   ],
   "source": [
    "str1='python'\n",
    "str1"
   ]
  },
  {
   "cell_type": "code",
   "execution_count": 6,
   "id": "fdb72cff-d659-420c-a7b1-3ecfc42c0543",
   "metadata": {},
   "outputs": [
    {
     "data": {
      "text/plain": [
       "'python'"
      ]
     },
     "execution_count": 6,
     "metadata": {},
     "output_type": "execute_result"
    }
   ],
   "source": [
    "str2=\"python\"\n",
    "str2"
   ]
  },
  {
   "cell_type": "code",
   "execution_count": 7,
   "id": "8b902221-79e4-4997-bdb2-38271c14ec1e",
   "metadata": {},
   "outputs": [
    {
     "name": "stdout",
     "output_type": "stream",
     "text": [
      "python\n"
     ]
    }
   ],
   "source": [
    "print(str1)   # do not confuse "
   ]
  },
  {
   "cell_type": "markdown",
   "id": "3fd5c8d7-4a6c-4fc3-9490-b93c4f997e54",
   "metadata": {},
   "source": [
    "**NOTE**\n",
    "\n",
    "- If we mention single quotes or double quotes by default python provides in deafult python provides in single quotes only\n",
    "\n",
    "- if we print the strings, we will answer with out quotes\n",
    "\n",
    "**Triple quotes**\n",
    "\n",
    "- triple quotes are used to doc string\n",
    "\n",
    "- in order to convey the information about coding part we will use doc string\n",
    "\n",
    "- anything in inside the single or double quotes it considered as string"
   ]
  },
  {
   "cell_type": "code",
   "execution_count": 42,
   "id": "3d6328e6-6f0e-472d-bcd5-e557918f7dcf",
   "metadata": {},
   "outputs": [
    {
     "data": {
      "text/plain": [
       "' hi how are you \\n        iam good\\n        this is chandu here \\n        what about u'"
      ]
     },
     "execution_count": 42,
     "metadata": {},
     "output_type": "execute_result"
    }
   ],
   "source": [
    "str3=\"\"\" hi how are you \n",
    "        iam good\n",
    "        this is chandu here \n",
    "        what about u\"\"\"\n",
    "str3"
   ]
  },
  {
   "cell_type": "code",
   "execution_count": 9,
   "id": "e2f9159b-361e-4750-bce9-660754a625ff",
   "metadata": {},
   "outputs": [
    {
     "data": {
      "text/plain": [
       "str"
      ]
     },
     "execution_count": 9,
     "metadata": {},
     "output_type": "execute_result"
    }
   ],
   "source": [
    "type(str1)"
   ]
  },
  {
   "cell_type": "code",
   "execution_count": null,
   "id": "eabe8d8d-4572-4768-840b-901be511b0fb",
   "metadata": {},
   "outputs": [],
   "source": [
    "str4='10'    #integer in the form of string\n",
    "str5='10.5'  # float value in the form of string\n",
    "str6='23abd'  # alpha numeric in the form of string\n",
    "str7='True'   # Boolean in the form string\n",
    "str8='sinx'   \n",
    "\n",
    "# all are in quotes , means in red color: strings"
   ]
  },
  {
   "cell_type": "markdown",
   "id": "69235890-28bc-4ad7-b9c6-33a13e5bd3f1",
   "metadata": {},
   "source": [
    "**len**"
   ]
  },
  {
   "cell_type": "code",
   "execution_count": 10,
   "id": "bb0a3fae-a9a6-421c-ac57-6b36558fdbb9",
   "metadata": {},
   "outputs": [
    {
     "data": {
      "text/plain": [
       "6"
      ]
     },
     "execution_count": 10,
     "metadata": {},
     "output_type": "execute_result"
    }
   ],
   "source": [
    "str1='python'\n",
    "len(str1)"
   ]
  },
  {
   "cell_type": "code",
   "execution_count": 11,
   "id": "50080bd3-d502-4410-869e-56dbebabfda7",
   "metadata": {},
   "outputs": [
    {
     "data": {
      "text/plain": [
       "13"
      ]
     },
     "execution_count": 11,
     "metadata": {},
     "output_type": "execute_result"
    }
   ],
   "source": [
    "str2='kshd734yr73gf'\n",
    "len(str2)"
   ]
  },
  {
   "cell_type": "code",
   "execution_count": 12,
   "id": "f523253f-7554-44cc-b2d4-a956c5f98bcf",
   "metadata": {},
   "outputs": [
    {
     "data": {
      "text/plain": [
       "5"
      ]
     },
     "execution_count": 12,
     "metadata": {},
     "output_type": "execute_result"
    }
   ],
   "source": [
    "str4='+_+  '\n",
    "len(str4)"
   ]
  },
  {
   "cell_type": "markdown",
   "id": "1f13d894-781d-4522-b927-e1fb0c658dab",
   "metadata": {},
   "source": [
    "**max**"
   ]
  },
  {
   "cell_type": "code",
   "execution_count": 14,
   "id": "0178a10e-09f1-498c-9a51-044710318c95",
   "metadata": {},
   "outputs": [
    {
     "data": {
      "text/plain": [
       "'y'"
      ]
     },
     "execution_count": 14,
     "metadata": {},
     "output_type": "execute_result"
    }
   ],
   "source": [
    "str3='python'\n",
    "max(str3)"
   ]
  },
  {
   "cell_type": "code",
   "execution_count": 15,
   "id": "744bf219-fe98-445e-af54-e0e6a1535e57",
   "metadata": {},
   "outputs": [
    {
     "data": {
      "text/plain": [
       "'h'"
      ]
     },
     "execution_count": 15,
     "metadata": {},
     "output_type": "execute_result"
    }
   ],
   "source": [
    "min(str3)"
   ]
  },
  {
   "cell_type": "code",
   "execution_count": 16,
   "id": "df40449b-3967-4f16-bfc7-294663c82e18",
   "metadata": {},
   "outputs": [
    {
     "data": {
      "text/plain": [
       "'d'"
      ]
     },
     "execution_count": 16,
     "metadata": {},
     "output_type": "execute_result"
    }
   ],
   "source": [
    "str6='abcd'\n",
    "max(str6)"
   ]
  },
  {
   "cell_type": "markdown",
   "id": "833dd8ab-9d56-4899-9eb3-732c83b09fc7",
   "metadata": {},
   "source": [
    "### Here min and max values are consided by using ASCII VALUES"
   ]
  },
  {
   "cell_type": "code",
   "execution_count": 17,
   "id": "9f7c4d5d-d3df-4feb-a62a-2bc7a935ac66",
   "metadata": {},
   "outputs": [
    {
     "data": {
      "text/plain": [
       "'a'"
      ]
     },
     "execution_count": 17,
     "metadata": {},
     "output_type": "execute_result"
    }
   ],
   "source": [
    "min(str6)"
   ]
  },
  {
   "cell_type": "code",
   "execution_count": 19,
   "id": "e24a3278-e507-4076-876f-19618e4d7717",
   "metadata": {},
   "outputs": [
    {
     "data": {
      "text/plain": [
       "(112, 121, 116, 104, 111, 110)"
      ]
     },
     "execution_count": 19,
     "metadata": {},
     "output_type": "execute_result"
    }
   ],
   "source": [
    "ord('p'),ord('y'),ord('t'),ord('h'),ord('o'),ord('n')"
   ]
  },
  {
   "cell_type": "markdown",
   "id": "57de9928-7162-4c1f-9076-ec506a851695",
   "metadata": {},
   "source": [
    "**Keywords vs Methods**"
   ]
  },
  {
   "cell_type": "code",
   "execution_count": null,
   "id": "1519f3e3-f9a6-4a2b-b815-be6972259398",
   "metadata": {},
   "outputs": [],
   "source": [
    "type(<>)\n",
    "print(<>)\n",
    "len(<>)\n",
    "max(<>)\n",
    "min(<>)\n",
    "eval(<>)\n",
    "input(<>)\n",
    "# we can use keywords without using package \n",
    "# and we can easily identify the keyword by seeing ()"
   ]
  },
  {
   "cell_type": "markdown",
   "id": "3e6c01a9-fc20-4b1a-8ff3-ac73d68e54bf",
   "metadata": {},
   "source": [
    "- in order to use method we have to call package\n",
    "\n",
    "import random\n",
    "random.randint()\n",
    "\n",
    "import math\n",
    "math.sqrt()\n",
    "\n",
    "import time\n",
    "time.sleep()"
   ]
  },
  {
   "cell_type": "code",
   "execution_count": 21,
   "id": "dcf3b5b8-42f0-4cf5-8a47-f334dde891b7",
   "metadata": {},
   "outputs": [
    {
     "data": {
      "text/plain": [
       "'y'"
      ]
     },
     "execution_count": 21,
     "metadata": {},
     "output_type": "execute_result"
    }
   ],
   "source": [
    "str1='python123'\n",
    "max(str1)"
   ]
  },
  {
   "cell_type": "markdown",
   "id": "d692671b-89c5-4ec7-8b83-12fd1794c625",
   "metadata": {},
   "source": [
    "**sum**"
   ]
  },
  {
   "cell_type": "code",
   "execution_count": 22,
   "id": "6eeb800d-08bc-4234-98c1-b12bbe253a89",
   "metadata": {},
   "outputs": [
    {
     "ename": "TypeError",
     "evalue": "unsupported operand type(s) for +: 'int' and 'str'",
     "output_type": "error",
     "traceback": [
      "\u001b[1;31m---------------------------------------------------------------------------\u001b[0m",
      "\u001b[1;31mTypeError\u001b[0m                                 Traceback (most recent call last)",
      "Cell \u001b[1;32mIn[22], line 2\u001b[0m\n\u001b[0;32m      1\u001b[0m str1\u001b[38;5;241m=\u001b[39m\u001b[38;5;124m'\u001b[39m\u001b[38;5;124mpython\u001b[39m\u001b[38;5;124m'\u001b[39m\n\u001b[1;32m----> 2\u001b[0m \u001b[38;5;28msum\u001b[39m(str1)\n",
      "\u001b[1;31mTypeError\u001b[0m: unsupported operand type(s) for +: 'int' and 'str'"
     ]
    }
   ],
   "source": [
    "str1='python'\n",
    "sum(str1)"
   ]
  },
  {
   "cell_type": "code",
   "execution_count": 23,
   "id": "42918fa6-b58c-4df4-ae47-6c264f0df457",
   "metadata": {},
   "outputs": [
    {
     "data": {
      "text/plain": [
       "6"
      ]
     },
     "execution_count": 23,
     "metadata": {},
     "output_type": "execute_result"
    }
   ],
   "source": [
    "sum([1,2,3])"
   ]
  },
  {
   "cell_type": "markdown",
   "id": "69f41277-44b9-4701-b31e-ef14a59a67fb",
   "metadata": {},
   "source": [
    "**sorted**"
   ]
  },
  {
   "cell_type": "code",
   "execution_count": null,
   "id": "b240c984-acc3-4d46-8bb4-ed5ccc8e53c5",
   "metadata": {},
   "outputs": [],
   "source": [
    "len('python')\n",
    "max('python')\n",
    "print('python')\n",
    "min('python')\n"
   ]
  },
  {
   "cell_type": "code",
   "execution_count": 25,
   "id": "ffb4b2d1-93b2-4357-9c85-d328a2498e48",
   "metadata": {},
   "outputs": [
    {
     "data": {
      "text/plain": [
       "['h', 'n', 'o', 'p', 't', 'y']"
      ]
     },
     "execution_count": 25,
     "metadata": {},
     "output_type": "execute_result"
    }
   ],
   "source": [
    "sorted('python')"
   ]
  },
  {
   "cell_type": "markdown",
   "id": "c5ee7506-018f-4683-b421-ff7c969ccf3b",
   "metadata": {},
   "source": [
    "- sorted gives ascending order based on ASCII numbers\n",
    "- sorted is kind of a function\n",
    "- every function we have arguments\n",
    "- in that one default argument is **reverse=False**\n",
    "- by default sorted output gives **ascending order**\n",
    "- we can change the order, by providing **reverse=True**\n",
    "- **if we do not mention , it will give the default answer**"
   ]
  },
  {
   "cell_type": "code",
   "execution_count": 26,
   "id": "3da7d4a7-e787-4df0-b52f-b6f187a5bd47",
   "metadata": {},
   "outputs": [
    {
     "data": {
      "text/plain": [
       "['y', 't', 'p', 'o', 'n', 'h']"
      ]
     },
     "execution_count": 26,
     "metadata": {},
     "output_type": "execute_result"
    }
   ],
   "source": [
    "sorted('python',reverse=True)"
   ]
  },
  {
   "cell_type": "code",
   "execution_count": 27,
   "id": "b8aef1e0-0e64-4579-8232-b3263c4777c0",
   "metadata": {},
   "outputs": [
    {
     "data": {
      "text/plain": [
       "(1+3j)"
      ]
     },
     "execution_count": 27,
     "metadata": {},
     "output_type": "execute_result"
    }
   ],
   "source": [
    "complex(real=1,imag=3)"
   ]
  },
  {
   "cell_type": "code",
   "execution_count": 28,
   "id": "c57670e2-7213-48bd-a564-8dc92231b905",
   "metadata": {},
   "outputs": [
    {
     "data": {
      "text/plain": [
       "(10+20j)"
      ]
     },
     "execution_count": 28,
     "metadata": {},
     "output_type": "execute_result"
    }
   ],
   "source": [
    "complex(10,20)"
   ]
  },
  {
   "cell_type": "code",
   "execution_count": 29,
   "id": "209493f1-9d6f-42f3-8ce0-8eefecae7c46",
   "metadata": {},
   "outputs": [
    {
     "data": {
      "text/plain": [
       "(10+30j)"
      ]
     },
     "execution_count": 29,
     "metadata": {},
     "output_type": "execute_result"
    }
   ],
   "source": [
    "complex(real=10,imag=30)"
   ]
  },
  {
   "cell_type": "code",
   "execution_count": null,
   "id": "db34f0de-c80f-49ee-be34-3adb0a9ae5c1",
   "metadata": {},
   "outputs": [],
   "source": [
    "import random\n",
    "random.randint()"
   ]
  },
  {
   "cell_type": "code",
   "execution_count": null,
   "id": "a8b1a2fd-16d3-47e9-839a-ae625be7a637",
   "metadata": {},
   "outputs": [],
   "source": [
    "function()   #ans\n",
    "function(a,b)  # this might return error\n",
    "function(a=10,b=20)  # ans"
   ]
  },
  {
   "cell_type": "code",
   "execution_count": null,
   "id": "1ac6b304-b75a-42b3-8af1-e34d8d3506f4",
   "metadata": {},
   "outputs": [],
   "source": [
    "function()   # \n",
    "function(a,b)  # this might return error\n",
    "function(a=10,b=20)  # ans"
   ]
  },
  {
   "cell_type": "code",
   "execution_count": 30,
   "id": "c7283e05-816d-4066-b358-be1e55e3d208",
   "metadata": {},
   "outputs": [
    {
     "data": {
      "text/plain": [
       "0.3250309360946487"
      ]
     },
     "execution_count": 30,
     "metadata": {},
     "output_type": "execute_result"
    }
   ],
   "source": [
    "import random\n",
    "random.random() # we will get answer but answer is in not in our hands"
   ]
  },
  {
   "cell_type": "code",
   "execution_count": 32,
   "id": "fb8d803f-9eb6-4992-8bff-b0b9b7f3fadf",
   "metadata": {},
   "outputs": [
    {
     "data": {
      "text/plain": [
       "17"
      ]
     },
     "execution_count": 32,
     "metadata": {},
     "output_type": "execute_result"
    }
   ],
   "source": [
    "import random\n",
    "random.randint(10,20)   # answer is in our hands"
   ]
  },
  {
   "cell_type": "code",
   "execution_count": 33,
   "id": "fa96de78-ff90-4839-b46f-ee5b633f0b97",
   "metadata": {},
   "outputs": [
    {
     "data": {
      "text/plain": [
       "0j"
      ]
     },
     "execution_count": 33,
     "metadata": {},
     "output_type": "execute_result"
    }
   ],
   "source": [
    "complex()   #by default 0,0"
   ]
  },
  {
   "cell_type": "code",
   "execution_count": null,
   "id": "7bd87ccb-e7f0-426d-b6b6-f93abee0b1a8",
   "metadata": {},
   "outputs": [],
   "source": [
    "sorted(iterable='python')    # error\n",
    "random.randint(a=10,b=20)"
   ]
  },
  {
   "cell_type": "code",
   "execution_count": 37,
   "id": "97b9f0f2-7735-4bb1-8c71-2003265ef3d0",
   "metadata": {},
   "outputs": [
    {
     "data": {
      "text/plain": [
       "['y', 't', 'p', 'o', 'n', 'h']"
      ]
     },
     "execution_count": 37,
     "metadata": {},
     "output_type": "execute_result"
    }
   ],
   "source": [
    "sorted('python') # answer\n",
    "sorted('python',reverse=True)"
   ]
  },
  {
   "cell_type": "code",
   "execution_count": 35,
   "id": "c0e86b95-5f10-417f-a224-bfd5b33608b2",
   "metadata": {},
   "outputs": [
    {
     "data": {
      "text/plain": [
       "18"
      ]
     },
     "execution_count": 35,
     "metadata": {},
     "output_type": "execute_result"
    }
   ],
   "source": [
    "random.randint(a=10,b=20)"
   ]
  },
  {
   "cell_type": "markdown",
   "id": "18d213d9-490e-437c-b499-15223c6cde39",
   "metadata": {},
   "source": [
    "**NOTE**\n",
    "- WE HAVE ARGUMENTS BEFORE / AND AFTER SLASH\n",
    "- WE CAN USE THE ARGUMENTS AFTER / ONLY\n",
    "- FOR EXAMPLE SORTED HAS TWO ARGUMENTS ONE IS ITERABLE AND ANOTHER ONE IS REVERSE\n",
    "- ITERABLE IS MENTIONED BEFORE / SYMBOL\n",
    "- REVERSE IS MENTIONED AFTER / SYMBOL\n",
    "- SO WE CAN USE ONLY REVERSE ARGUMENT NAME WHILE WE ARE DOING THE WORK\n",
    "- WE CAN NOT USE ITERABLE ARGUMENT NAME\n",
    "- INSTEAD OF USING ITERABLE NAME, WE CAN PROVIDE DIRECT VALUE AT THE POSITION"
   ]
  },
  {
   "cell_type": "markdown",
   "id": "5b143891-dbb4-4ecc-9b2c-b055900ba1cf",
   "metadata": {},
   "source": [
    "**REVERSED**"
   ]
  },
  {
   "cell_type": "code",
   "execution_count": null,
   "id": "0672150b-b1f1-4f3c-b0eb-270098eb724e",
   "metadata": {},
   "outputs": [],
   "source": [
    "type(<>)\n",
    "print(<>)\n",
    "len(<>)\n",
    "max(<>)\n",
    "min(<>)\n",
    "eval(<>)\n",
    "input(<>)\n",
    "sorted(<>)"
   ]
  },
  {
   "cell_type": "code",
   "execution_count": 38,
   "id": "87fc70f2-f7ed-4bfd-a074-8fbc6fd76187",
   "metadata": {},
   "outputs": [
    {
     "data": {
      "text/plain": [
       "<reversed at 0x151262fd540>"
      ]
     },
     "execution_count": 38,
     "metadata": {},
     "output_type": "execute_result"
    }
   ],
   "source": [
    "reversed('python')"
   ]
  },
  {
   "cell_type": "markdown",
   "id": "3cfbd671-9a7a-43e8-8ab9-2db8d86989aa",
   "metadata": {},
   "source": [
    "- iam already done \n",
    "\n",
    "- ur output is stored in memory location\n",
    "\n",
    "- whenever u see this kind of answer less than greater than symbol or memory \n",
    "\n",
    "- use for loop to see the answer"
   ]
  },
  {
   "cell_type": "code",
   "execution_count": 39,
   "id": "bfeb37cd-96e9-453e-bfb7-aca0a98620ed",
   "metadata": {},
   "outputs": [
    {
     "name": "stdout",
     "output_type": "stream",
     "text": [
      "n\n",
      "o\n",
      "h\n",
      "t\n",
      "y\n",
      "p\n"
     ]
    }
   ],
   "source": [
    "str1='python'\n",
    "output=reversed(str1)\n",
    "for i in output:\n",
    "    print(i)"
   ]
  },
  {
   "cell_type": "code",
   "execution_count": 40,
   "id": "7474f678-0dfa-4e71-9456-133bfa11de11",
   "metadata": {},
   "outputs": [
    {
     "name": "stdout",
     "output_type": "stream",
     "text": [
      "d\n",
      "c\n",
      "y\n",
      "z\n",
      "a\n"
     ]
    }
   ],
   "source": [
    "str1='azycd'\n",
    "output=reversed(str1)\n",
    "for i in output:\n",
    "    print(i)"
   ]
  },
  {
   "cell_type": "code",
   "execution_count": 41,
   "id": "f90bf8b8-c48a-4527-9aa5-2439d3d4c45e",
   "metadata": {},
   "outputs": [
    {
     "data": {
      "text/plain": [
       "['a', 'c', 'd', 'y', 'z']"
      ]
     },
     "execution_count": 41,
     "metadata": {},
     "output_type": "execute_result"
    }
   ],
   "source": [
    "sorted('azycd')"
   ]
  },
  {
   "cell_type": "code",
   "execution_count": 1,
   "id": "b347b33e-fa89-4a45-8b06-5d9e5779ac5d",
   "metadata": {},
   "outputs": [
    {
     "data": {
      "text/plain": [
       "['a', 'e', 'h', 'n', 'r', 's']"
      ]
     },
     "execution_count": 1,
     "metadata": {},
     "output_type": "execute_result"
    }
   ],
   "source": [
    "# sorted()\n",
    "# it will provide the values either ascending or descending\n",
    "\n",
    "\n",
    "sorted('naresh')  # ASCENDING    OR    DESCENDING\n",
    "\n",
    "\n",
    "# when i run directly it will give one answer \n",
    "# the function has a default behaviour: ascending \n",
    "\n",
    "# How this default mentioned \n",
    "# we need to understand about arguments\n"
   ]
  },
  {
   "cell_type": "code",
   "execution_count": 6,
   "id": "09e9e2f5-7216-49d4-8453-6d183396195c",
   "metadata": {},
   "outputs": [
    {
     "data": {
      "text/plain": [
       "['s', 'r', 'n', 'h', 'e', 'a']"
      ]
     },
     "execution_count": 6,
     "metadata": {},
     "output_type": "execute_result"
    }
   ],
   "source": [
    "sorted('naresh',reverse=True)\n",
    "\n",
    "# iterable\n",
    "# key \n",
    "# reverse\n"
   ]
  },
  {
   "cell_type": "code",
   "execution_count": 4,
   "id": "3a724ddb-4d80-4f67-a70c-023b73e71a80",
   "metadata": {},
   "outputs": [
    {
     "name": "stdout",
     "output_type": "stream",
     "text": [
      "26.666666666666668\n"
     ]
    }
   ],
   "source": [
    "def avg(a,b,c):\n",
    "    print((a+b+c)/3)\n",
    "avg(30,30,20)"
   ]
  },
  {
   "cell_type": "code",
   "execution_count": 9,
   "id": "b58d8d56-5854-4c5e-aa1c-c4523a7fdc8b",
   "metadata": {},
   "outputs": [
    {
     "name": "stdout",
     "output_type": "stream",
     "text": [
      "h s e r a n "
     ]
    }
   ],
   "source": [
    "for i in reversed('naresh'):\n",
    "    print(i,end=' ')"
   ]
  },
  {
   "cell_type": "code",
   "execution_count": 10,
   "id": "b3d3897a-e15a-4330-8681-60b595672c18",
   "metadata": {},
   "outputs": [
    {
     "data": {
      "text/plain": [
       "[0, 1, 2, 4, 8, 9]"
      ]
     },
     "execution_count": 10,
     "metadata": {},
     "output_type": "execute_result"
    }
   ],
   "source": [
    "sorted([1,8,2,4,9,0])"
   ]
  },
  {
   "cell_type": "code",
   "execution_count": 11,
   "id": "558d48bf-a4ab-4470-8653-30cf5e8590ce",
   "metadata": {},
   "outputs": [
    {
     "data": {
      "text/plain": [
       "[9, 8, 4, 2, 1, 0]"
      ]
     },
     "execution_count": 11,
     "metadata": {},
     "output_type": "execute_result"
    }
   ],
   "source": [
    "sorted([1,8,2,4,9,0],reverse=True)"
   ]
  },
  {
   "cell_type": "markdown",
   "id": "d7b32a2d-dda3-477c-8456-0c9da8825652",
   "metadata": {},
   "source": [
    "**in operator**"
   ]
  },
  {
   "cell_type": "code",
   "execution_count": 13,
   "id": "2d6517cd-2d9c-40aa-a3d4-f1ae75230375",
   "metadata": {},
   "outputs": [
    {
     "data": {
      "text/plain": [
       "True"
      ]
     },
     "execution_count": 13,
     "metadata": {},
     "output_type": "execute_result"
    }
   ],
   "source": [
    "str1='naresh'\n",
    "'n' in str1"
   ]
  },
  {
   "cell_type": "code",
   "execution_count": null,
   "id": "820a577a-65ea-4833-9e17-a328bf8c41b6",
   "metadata": {},
   "outputs": [],
   "source": [
    "# strings\n",
    "# lists\n",
    "# tuples\n",
    "# sets\n",
    "# dictinory"
   ]
  },
  {
   "cell_type": "code",
   "execution_count": 14,
   "id": "bf6b5986-cc09-412b-b72f-5f8ebe011d8c",
   "metadata": {},
   "outputs": [
    {
     "data": {
      "text/plain": [
       "False"
      ]
     },
     "execution_count": 14,
     "metadata": {},
     "output_type": "execute_result"
    }
   ],
   "source": [
    "str1=\"naresh\"\n",
    "'nn' in str1"
   ]
  },
  {
   "cell_type": "code",
   "execution_count": 15,
   "id": "41f93d3b-a780-42c8-87a9-79b9e841357d",
   "metadata": {},
   "outputs": [
    {
     "name": "stdout",
     "output_type": "stream",
     "text": [
      "n\n",
      "a\n",
      "r\n",
      "e\n",
      "s\n",
      "h\n"
     ]
    }
   ],
   "source": [
    "for i in str1:\n",
    "    print(i)"
   ]
  },
  {
   "cell_type": "markdown",
   "id": "e234cec4-d354-47ea-b6be-8d939dff5dde",
   "metadata": {},
   "source": [
    "**NOTE**\n",
    "- in operator directly access the letters"
   ]
  },
  {
   "cell_type": "code",
   "execution_count": null,
   "id": "6d31d492-4ab6-414c-8dce-0acf801a3170",
   "metadata": {},
   "outputs": [],
   "source": [
    "# wap ask the user count how many 'a ' are present in a given string\n",
    "# the given string is \n",
    "# str1='hai naresh how are you'\n",
    "\n",
    "\n",
    "# Idea: counter wrapper\n",
    "# step-1: count=0\n",
    "# step-2: using for loop in operator iterate through given string\n",
    "# step-3: apply the if condition, whenever the letters equal to 'a'\n",
    "# step-4: count=count+1"
   ]
  },
  {
   "cell_type": "code",
   "execution_count": 56,
   "id": "81ab03c7-dcf8-4400-b039-5abb7be947c8",
   "metadata": {},
   "outputs": [
    {
     "name": "stdout",
     "output_type": "stream",
     "text": [
      "3\n"
     ]
    }
   ],
   "source": [
    "count=0\n",
    "str_1='hai naresh how are you'\n",
    "#s2='aeiou'\n",
    "for i in str_1:\n",
    "    if i=='a':\n",
    "        count=count+1\n",
    "print(count)\n",
    "# step-1: i='h'  if 'h'='a' false\n",
    "# step-2: i='a' if 'a'=='a' True      count=0+1\n",
    "# step-3: i='i' if "
   ]
  },
  {
   "cell_type": "code",
   "execution_count": 32,
   "id": "56154b52-e982-467c-b105-f90d601e7868",
   "metadata": {},
   "outputs": [
    {
     "name": "stdout",
     "output_type": "stream",
     "text": [
      "9\n"
     ]
    }
   ],
   "source": [
    "# 2 wap ask the user find how many vowels are there in a given string\n",
    "# str1='hai naresh how are you'\n",
    "# ans = 9\n",
    "count=0\n",
    "string='hai naresh how are you'\n",
    "s2='aeiou'\n",
    "for i in string:\n",
    "    if i in s2:\n",
    "        count=count+1\n",
    "print(count)\n"
   ]
  },
  {
   "cell_type": "code",
   "execution_count": 58,
   "id": "558e3a3a-a7b4-4800-9557-988c145985b5",
   "metadata": {},
   "outputs": [
    {
     "name": "stdout",
     "output_type": "stream",
     "text": [
      "the count of vowels avoid repeatation are: 5\n"
     ]
    }
   ],
   "source": [
    "# 3 homework\n",
    "# string='hai naresh how are you'\n",
    "# repeated vowels are there \n",
    "# we don't want repeated vowels \n",
    "# count the vowels avoid the repeatation: unique vowels\n",
    "\n",
    "\n",
    "# Idea: \n",
    "#step-1: count=0\n",
    "# step-2: take one more empty string: ex= s2=''\n",
    "# step-3: using for loop in operator iterate through given string\n",
    "# step-4: comdition-1: That letter should not available in s2\n",
    "# step-5:          conditin-2: vowels check condion\n",
    "# step=6:                     count=count+1\n",
    "# step-7:                           update the s2 = s2=s2+<letter>\n",
    "\n",
    "\n",
    "\n",
    "string='hai naresh how are you'\n",
    "s2=' '\n",
    "count=0\n",
    "for i in string:\n",
    "    if i not in s2:\n",
    "        if i in 'aeiou':\n",
    "            count=count+1\n",
    "            s2=s2+i\n",
    "print(f\"the count of vowels avoid repeatation are: {count}\")"
   ]
  },
  {
   "cell_type": "code",
   "execution_count": 41,
   "id": "dad89f50-8cbb-4b89-ad15-c0a02a0fdd49",
   "metadata": {},
   "outputs": [
    {
     "data": {
      "text/plain": [
       "'python'"
      ]
     },
     "execution_count": 41,
     "metadata": {},
     "output_type": "execute_result"
    }
   ],
   "source": [
    "# updating the strings\n",
    "s1='python'\n",
    "s2=''\n",
    "for i in s1:\n",
    "    s2=s2+i               #concatination\n",
    "\n",
    "s2"
   ]
  },
  {
   "cell_type": "markdown",
   "id": "29ca58bc-5827-4d99-b15a-474ef92de7b4",
   "metadata": {},
   "source": [
    "## concatenation"
   ]
  },
  {
   "cell_type": "code",
   "execution_count": 44,
   "id": "158c7919-d69e-43b4-95a2-4bcb9a832445",
   "metadata": {},
   "outputs": [
    {
     "data": {
      "text/plain": [
       "'hello bye'"
      ]
     },
     "execution_count": 44,
     "metadata": {},
     "output_type": "execute_result"
    }
   ],
   "source": [
    "# concatenantion means adding tw strings\n",
    "s1='hello '\n",
    "s2=\"bye\"\n",
    "s1+s2"
   ]
  },
  {
   "cell_type": "code",
   "execution_count": 45,
   "id": "39885478-4482-47c4-a849-4f77ddf658c0",
   "metadata": {},
   "outputs": [
    {
     "data": {
      "text/plain": [
       "'hello  bye'"
      ]
     },
     "execution_count": 45,
     "metadata": {},
     "output_type": "execute_result"
    }
   ],
   "source": [
    "s1='hello '\n",
    "s2=' '\n",
    "s3=\"bye\"\n",
    "s1+s2+s3"
   ]
  },
  {
   "cell_type": "code",
   "execution_count": 46,
   "id": "81767b0a-dbcb-4b6f-b2dd-c58dcaef81ed",
   "metadata": {},
   "outputs": [
    {
     "data": {
      "text/plain": [
       "'hello  bye'"
      ]
     },
     "execution_count": 46,
     "metadata": {},
     "output_type": "execute_result"
    }
   ],
   "source": [
    "s1='hello '\n",
    "s2=' '\n",
    "s3=\"bye\"\n",
    "s4=s1+s2+s3\n",
    "s4"
   ]
  },
  {
   "cell_type": "code",
   "execution_count": 47,
   "id": "891f3e8f-c79c-43c3-bf56-4d853273b3e2",
   "metadata": {},
   "outputs": [
    {
     "ename": "TypeError",
     "evalue": "unsupported operand type(s) for -: 'str' and 'str'",
     "output_type": "error",
     "traceback": [
      "\u001b[1;31m---------------------------------------------------------------------------\u001b[0m",
      "\u001b[1;31mTypeError\u001b[0m                                 Traceback (most recent call last)",
      "Cell \u001b[1;32mIn[47], line 4\u001b[0m\n\u001b[0;32m      2\u001b[0m s2\u001b[38;5;241m=\u001b[39m\u001b[38;5;124m'\u001b[39m\u001b[38;5;124mbye\u001b[39m\u001b[38;5;124m'\u001b[39m\n\u001b[0;32m      3\u001b[0m s1\u001b[38;5;241m+\u001b[39ms2\n\u001b[1;32m----> 4\u001b[0m s1\u001b[38;5;241m-\u001b[39ms2\n",
      "\u001b[1;31mTypeError\u001b[0m: unsupported operand type(s) for -: 'str' and 'str'"
     ]
    }
   ],
   "source": [
    "s1='hello'\n",
    "s2='bye'\n",
    "s1+s2\n",
    "s1-s2"
   ]
  },
  {
   "cell_type": "code",
   "execution_count": 48,
   "id": "114694d9-8496-4ec8-92c6-1950dfb316de",
   "metadata": {},
   "outputs": [
    {
     "ename": "TypeError",
     "evalue": "can't multiply sequence by non-int of type 'str'",
     "output_type": "error",
     "traceback": [
      "\u001b[1;31m---------------------------------------------------------------------------\u001b[0m",
      "\u001b[1;31mTypeError\u001b[0m                                 Traceback (most recent call last)",
      "Cell \u001b[1;32mIn[48], line 3\u001b[0m\n\u001b[0;32m      1\u001b[0m s1\u001b[38;5;241m=\u001b[39m\u001b[38;5;124m'\u001b[39m\u001b[38;5;124mhello\u001b[39m\u001b[38;5;124m'\u001b[39m\n\u001b[0;32m      2\u001b[0m s2\u001b[38;5;241m=\u001b[39m\u001b[38;5;124m'\u001b[39m\u001b[38;5;124mbye\u001b[39m\u001b[38;5;124m'\u001b[39m\n\u001b[1;32m----> 3\u001b[0m s1\u001b[38;5;241m*\u001b[39ms2\n",
      "\u001b[1;31mTypeError\u001b[0m: can't multiply sequence by non-int of type 'str'"
     ]
    }
   ],
   "source": [
    "s1='hello'\n",
    "s2='bye'\n",
    "s1*s2"
   ]
  },
  {
   "cell_type": "code",
   "execution_count": 49,
   "id": "00d120a7-a164-402f-af26-d8dedc1af78a",
   "metadata": {},
   "outputs": [
    {
     "ename": "TypeError",
     "evalue": "unsupported operand type(s) for /: 'str' and 'str'",
     "output_type": "error",
     "traceback": [
      "\u001b[1;31m---------------------------------------------------------------------------\u001b[0m",
      "\u001b[1;31mTypeError\u001b[0m                                 Traceback (most recent call last)",
      "Cell \u001b[1;32mIn[49], line 3\u001b[0m\n\u001b[0;32m      1\u001b[0m s1\u001b[38;5;241m=\u001b[39m\u001b[38;5;124m'\u001b[39m\u001b[38;5;124mhello\u001b[39m\u001b[38;5;124m'\u001b[39m\n\u001b[0;32m      2\u001b[0m s2\u001b[38;5;241m=\u001b[39m\u001b[38;5;124m'\u001b[39m\u001b[38;5;124mbye\u001b[39m\u001b[38;5;124m'\u001b[39m\n\u001b[1;32m----> 3\u001b[0m s1\u001b[38;5;241m/\u001b[39ms2\n",
      "\u001b[1;31mTypeError\u001b[0m: unsupported operand type(s) for /: 'str' and 'str'"
     ]
    }
   ],
   "source": [
    "s1='hello'\n",
    "s2='bye'\n",
    "s1/s2"
   ]
  },
  {
   "cell_type": "code",
   "execution_count": null,
   "id": "cef88630-34ad-4196-ad20-0fe6bb868a72",
   "metadata": {},
   "outputs": [],
   "source": [
    "# s1-s2: unsupported operand type(s) for -: 'str' and 'str'\n",
    "\n",
    "# s1*s2: can't multiply sequence by non-int of type 'str'\n",
    "\n",
    "# s1/s2: unsupported operand type(s) for /: 'str' and 'str'\n"
   ]
  },
  {
   "cell_type": "code",
   "execution_count": 51,
   "id": "8ea7b2a9-779a-4a33-9fbe-6ebe8e846033",
   "metadata": {},
   "outputs": [
    {
     "data": {
      "text/plain": [
       "'hello hello '"
      ]
     },
     "execution_count": 51,
     "metadata": {},
     "output_type": "execute_result"
    }
   ],
   "source": [
    "s1='hello '\n",
    "s2=2\n",
    "s1*s2"
   ]
  },
  {
   "cell_type": "markdown",
   "id": "7f89cf86-d00d-47aa-8c3e-9ef62a3740d4",
   "metadata": {},
   "source": [
    "# INDEX\n",
    "- index means a number attached  to a letter\n",
    "- in python index starts with zero\n",
    "- we have two directons\n",
    "    - positive directions\n",
    "        - positive numbers starts with zero\n",
    "    \n",
    "    - negative number\n",
    "        - negative numbers starts with -1, applicable to last letter "
   ]
  },
  {
   "cell_type": "code",
   "execution_count": 52,
   "id": "f07bfb4b-b74d-4e9b-aee5-9e2c95e5f582",
   "metadata": {},
   "outputs": [
    {
     "data": {
      "text/plain": [
       "'h'"
      ]
     },
     "execution_count": 52,
     "metadata": {},
     "output_type": "execute_result"
    }
   ],
   "source": [
    "s1='python'\n",
    "s1[3]\n",
    "\n",
    "p y t h o n \n",
    "0 1 2 3 4 5"
   ]
  },
  {
   "cell_type": "code",
   "execution_count": null,
   "id": "01b42dcc-a79e-4b7a-ad21-dc40612ddc53",
   "metadata": {},
   "outputs": [],
   "source": [
    "s1= 'python'\n",
    "\n"
   ]
  },
  {
   "cell_type": "code",
   "execution_count": 53,
   "id": "799b9526-88a3-4bf1-b75d-3d00ba4fa910",
   "metadata": {},
   "outputs": [
    {
     "data": {
      "text/plain": [
       "('p', 'y', 't', 'h', 'o', 'n')"
      ]
     },
     "execution_count": 53,
     "metadata": {},
     "output_type": "execute_result"
    }
   ],
   "source": [
    "s1= 'python'\n",
    "s1[0],s1[1],s1[2],s1[3],s1[4],s1[5]"
   ]
  },
  {
   "cell_type": "code",
   "execution_count": 54,
   "id": "881b9c69-df47-40e9-b5e7-4b8259f14c71",
   "metadata": {},
   "outputs": [
    {
     "data": {
      "text/plain": [
       "('n', 'o', 'h', 't', 'y', 'p')"
      ]
     },
     "execution_count": 54,
     "metadata": {},
     "output_type": "execute_result"
    }
   ],
   "source": [
    "s1[-1],s1[-2],s1[-3],s1[-4],s1[-5],s1[-6]"
   ]
  },
  {
   "cell_type": "code",
   "execution_count": 55,
   "id": "8191a2c5-4de8-477e-9486-1b8edd740556",
   "metadata": {},
   "outputs": [
    {
     "name": "stdout",
     "output_type": "stream",
     "text": [
      "3\n"
     ]
    }
   ],
   "source": [
    "count=0\n",
    "str_1='hai naresh how are you'\n",
    "#s2='aeiou'\n",
    "for i in str_1:\n",
    "    if i=='a':\n",
    "        count=count+1\n",
    "print(count)"
   ]
  },
  {
   "cell_type": "code",
   "execution_count": null,
   "id": "8f1979ae-2caa-4f05-807e-18f9c9be7119",
   "metadata": {},
   "outputs": [],
   "source": [
    "# 3 homework\n",
    "# string='hai naresh how are you'\n",
    "# repeated vowels are there \n",
    "# we don't want repeated vowels \n",
    "# count the vowels avoid the repeatation: unique vowels\n",
    "\n",
    "\n",
    "# Idea: \n",
    "#step-1: count=0\n",
    "# step-2: take one more empty string: ex= s2=''\n",
    "# step-3: using for loop in operator iterate through given string\n",
    "# step-4: comdition-1: That letter should not available in s2\n",
    "# step-5:          conditin-2: vowels check condion\n",
    "# step=6:                     count=count+1\n",
    "# step-7:                           update the s2 = s2=s2+<letter>"
   ]
  },
  {
   "cell_type": "code",
   "execution_count": 3,
   "id": "32e7cea1-cdc6-4a30-ae6e-ff13f77b75a2",
   "metadata": {},
   "outputs": [
    {
     "name": "stdout",
     "output_type": "stream",
     "text": [
      "2\n"
     ]
    }
   ],
   "source": [
    "str='hi ala everyone'\n",
    "s2=' '\n",
    "count=0\n",
    "for i in str:\n",
    "    if i not in s2:\n",
    "        if i in 'a':\n",
    "            s2='a'\n",
    "            count=count+1\n",
    "            #s2=s2+i\n",
    "        elif i in 'e':\n",
    "            s2='e'\n",
    "            count=count+1\n",
    "         \n",
    "print(count)\n",
    "    #if i not in s2:\n",
    "        "
   ]
  },
  {
   "cell_type": "code",
   "execution_count": 6,
   "id": "53ac7028-696c-4b53-9b38-9a848109f69f",
   "metadata": {},
   "outputs": [
    {
     "name": "stdout",
     "output_type": "stream",
     "text": [
      "4\n"
     ]
    }
   ],
   "source": [
    "str='hi ala everyone'\n",
    "s2=' '\n",
    "count=0\n",
    "for i in str:\n",
    "    if i not in s2:\n",
    "        if i in 'aeiou':\n",
    "            count=count+1\n",
    "            s2=s2+i\n",
    "print(count)"
   ]
  },
  {
   "cell_type": "markdown",
   "id": "0b97282e-ba9e-498c-b277-76878b93b365",
   "metadata": {},
   "source": [
    "# mutable\n",
    "\n",
    "- mutable: can be changed\n",
    "\n",
    "    - we can change using indexing\n",
    "\n",
    "- immutable: can not be changed\n",
    "\n",
    "    - we cannot change using indexing"
   ]
  },
  {
   "cell_type": "code",
   "execution_count": 7,
   "id": "596f2388-724b-4213-b48a-251ac3553302",
   "metadata": {},
   "outputs": [
    {
     "ename": "TypeError",
     "evalue": "'str' object does not support item assignment",
     "output_type": "error",
     "traceback": [
      "\u001b[1;31m---------------------------------------------------------------------------\u001b[0m",
      "\u001b[1;31mTypeError\u001b[0m                                 Traceback (most recent call last)",
      "Cell \u001b[1;32mIn[7], line 5\u001b[0m\n\u001b[0;32m      1\u001b[0m s\u001b[38;5;241m=\u001b[39m\u001b[38;5;124m'\u001b[39m\u001b[38;5;124mwelcome\u001b[39m\u001b[38;5;124m'\u001b[39m\n\u001b[0;32m      2\u001b[0m \u001b[38;5;66;03m# i want to replace 'L' with 'l'\u001b[39;00m\n\u001b[0;32m      3\u001b[0m \u001b[38;5;66;03m# possible\u001b[39;00m\n\u001b[0;32m      4\u001b[0m \u001b[38;5;66;03m# not possible\u001b[39;00m\n\u001b[1;32m----> 5\u001b[0m s[\u001b[38;5;241m2\u001b[39m]\u001b[38;5;241m=\u001b[39m\u001b[38;5;124m'\u001b[39m\u001b[38;5;124mL\u001b[39m\u001b[38;5;124m'\u001b[39m\n",
      "\u001b[1;31mTypeError\u001b[0m: 'str' object does not support item assignment"
     ]
    }
   ],
   "source": [
    "s='welcome'\n",
    "# i want to replace 'L' with 'l'\n",
    "# possible\n",
    "# not possible\n",
    "s[2]='L'\n"
   ]
  },
  {
   "cell_type": "markdown",
   "id": "668abbd9-7f8c-430d-8217-0274d75c885a",
   "metadata": {},
   "source": [
    "## strings are immutable"
   ]
  },
  {
   "cell_type": "code",
   "execution_count": 9,
   "id": "382482f3-8923-4410-8d25-5141fcd53b23",
   "metadata": {},
   "outputs": [
    {
     "data": {
      "text/plain": [
       "[1, 200, 3, 4]"
      ]
     },
     "execution_count": 9,
     "metadata": {},
     "output_type": "execute_result"
    }
   ],
   "source": [
    "l=[1,2,3,4]\n",
    "l[1]=200\n",
    "l\n",
    "# lists are mutable"
   ]
  },
  {
   "cell_type": "code",
   "execution_count": null,
   "id": "7afacdbb-b289-403b-a12f-45310c5ad166",
   "metadata": {},
   "outputs": [],
   "source": [
    "s='welcome'\n",
    "s[2]='L'\n",
    "#######################\n",
    "l=[1,2,3,4]\n",
    "l[1]=200\n",
    "l"
   ]
  },
  {
   "cell_type": "markdown",
   "id": "fae83e5b-b51e-443b-b99a-8ff2305bf14d",
   "metadata": {},
   "source": [
    "- range belongs to which family\n",
    "    - Math family\n",
    "\n",
    "- inside range bracket what we need to provide\n",
    "    - number\n",
    "\n",
    "- how many numbers we need to provide\n",
    "    - number of letter: len(string)\n",
    "\n",
    "- how to access the letter using number\n",
    "    - by using index"
   ]
  },
  {
   "cell_type": "code",
   "execution_count": 15,
   "id": "536f08f9-48b8-45fb-b94f-0f81c73e3dec",
   "metadata": {},
   "outputs": [
    {
     "name": "stdout",
     "output_type": "stream",
     "text": [
      "w\n",
      "e\n",
      "l\n",
      "c\n",
      "o\n",
      "m\n",
      "e\n"
     ]
    }
   ],
   "source": [
    "# 4) print each letter using for loop range\n",
    "s='welcome'\n",
    "# range belongs to which family \n",
    "# inside bracket we need to provide a number \n",
    "# how many numbers we need to provide \n",
    "#          number of letters =7\n",
    "# how to access aletter using number:\n",
    "for i in range(len(s)):\n",
    "    print(s[i])\n",
    "# i=0    s[0] =w\n",
    "# i=1    s[1] =e"
   ]
  },
  {
   "cell_type": "code",
   "execution_count": 52,
   "id": "8d0be592-8705-4b5b-af5b-cdd621a8f7ae",
   "metadata": {},
   "outputs": [
    {
     "name": "stdout",
     "output_type": "stream",
     "text": [
      "0\n",
      "1\n",
      "2\n",
      "3\n",
      "4\n",
      "5\n",
      "6\n"
     ]
    }
   ],
   "source": [
    "s='welcome'\n",
    "for i in range(len(s)):\n",
    "    print(i)"
   ]
  },
  {
   "cell_type": "code",
   "execution_count": 16,
   "id": "6b11aaee-5f99-47dd-8b57-503be5934087",
   "metadata": {},
   "outputs": [
    {
     "name": "stdout",
     "output_type": "stream",
     "text": [
      "w\n",
      "e\n",
      "l\n",
      "c\n",
      "o\n",
      "m\n",
      "e\n"
     ]
    }
   ],
   "source": [
    "s='welcome'\n",
    "n=len(s)\n",
    "for i in range(n):\n",
    "    print(s[i])"
   ]
  },
  {
   "cell_type": "markdown",
   "id": "56c16682-5444-4e38-b777-a2a05b972abd",
   "metadata": {},
   "source": [
    "- **for-in** directly accesss the letter\n",
    "- **for-range** will access index"
   ]
  },
  {
   "cell_type": "code",
   "execution_count": 17,
   "id": "bf606113-51d8-49ba-b135-9a5ec3b31bf8",
   "metadata": {},
   "outputs": [
    {
     "name": "stdout",
     "output_type": "stream",
     "text": [
      "w\n",
      "e\n",
      "l\n",
      "c\n",
      "o\n",
      "m\n",
      "e\n"
     ]
    }
   ],
   "source": [
    "for i in s:\n",
    "    print(i)"
   ]
  },
  {
   "cell_type": "code",
   "execution_count": 19,
   "id": "18478630-6a58-44cb-8a25-0cc5f2353272",
   "metadata": {},
   "outputs": [
    {
     "name": "stdout",
     "output_type": "stream",
     "text": [
      "0\n",
      "1\n",
      "2\n",
      "3\n",
      "4\n",
      "5\n",
      "6\n"
     ]
    }
   ],
   "source": [
    "for i in range(7):\n",
    "    print(i)"
   ]
  },
  {
   "cell_type": "code",
   "execution_count": 23,
   "id": "e2ddb488-5127-4e05-8811-a555e91aef50",
   "metadata": {},
   "outputs": [
    {
     "name": "stdout",
     "output_type": "stream",
     "text": [
      "the positive index w is 0 \n",
      "the positive index e is 1 \n",
      "the positive index l is 2 \n",
      "the positive index c is 3 \n",
      "the positive index o is 4 \n",
      "the positive index m is 5 \n",
      "the positive index e is 6 \n"
     ]
    }
   ],
   "source": [
    "# 5) wap ask the user iterate using a string\n",
    "# string='welcome'\n",
    "# print the positive index of w is 0\n",
    "#       the positive index of e is 1\n",
    "#       the positive index of l is 1\n",
    "s1='welcome'\n",
    "for i in range(len(s1)):\n",
    "    print(f\"the positive index {s1[i]} is {i} \")"
   ]
  },
  {
   "cell_type": "code",
   "execution_count": 25,
   "id": "6e68f936-c5a6-476b-aaa5-b069c9aa1a0a",
   "metadata": {},
   "outputs": [
    {
     "name": "stdout",
     "output_type": "stream",
     "text": [
      "the negative index w is -7 \n",
      "the negative index e is -6 \n",
      "the negative index l is -5 \n",
      "the negative index c is -4 \n",
      "the negative index o is -3 \n",
      "the negative index m is -2 \n",
      "the negative index e is -1 \n"
     ]
    }
   ],
   "source": [
    "# 6) wap ask the user iterate using a string\n",
    "# string='welcome'\n",
    "# print the negative index of w is -7\n",
    "#       the negative index of e is -6\n",
    "#       the negative index of l is -5\n",
    "# thw positive \n",
    "s1='welcome'\n",
    "for i in range(len(s1)):\n",
    "    print(f\"the negative index {s1[i]} is {i-len(s1)} \")\n",
    "    \n",
    "#"
   ]
  },
  {
   "cell_type": "code",
   "execution_count": 53,
   "id": "e2fb82ab-691e-452a-a190-54e2d6cd07c5",
   "metadata": {},
   "outputs": [
    {
     "name": "stdout",
     "output_type": "stream",
     "text": [
      "the positive index is 0 and the negative index is -7\n",
      "the positive index is 1 and the negative index is -6\n",
      "the positive index is 2 and the negative index is -5\n",
      "the positive index is 3 and the negative index is -4\n",
      "the positive index is 4 and the negative index is -3\n",
      "the positive index is 5 and the negative index is -2\n",
      "the positive index is 6 and the negative index is -1\n"
     ]
    }
   ],
   "source": [
    "# 7) wap ask the user iterate using a string\n",
    "# string='welcome'\n",
    "# # the positive index is 0 and the negtaive index -7 for w\n",
    "s='welcome'\n",
    "for i in range(len(s)):\n",
    "    print(f\"the positive index is {i} and the negative index is {i-len(s)}\")"
   ]
  },
  {
   "cell_type": "code",
   "execution_count": null,
   "id": "803f4583-9ed8-4e59-9b3b-4d7d187befc7",
   "metadata": {},
   "outputs": [],
   "source": [
    "# 8) wap ask the user get the index of each 'a' in a given string\n",
    "# s='hai how are you i am good'\n",
    "# a=1 8 18\n",
    "\n",
    "\n",
    "# 9) wap ask the user to get count of number of 'a' in a given string \n",
    "# using for- range \n",
    "\n",
    "\n",
    "# 10) wap ask the user get the sum of all index numbers of 'a'\n",
    "# 2+8+18=28\n",
    "\n",
    "# 11) wap ask the user get the vowels from a given string "
   ]
  },
  {
   "cell_type": "code",
   "execution_count": 26,
   "id": "bda8d8b0-e4ac-458b-8e16-cf1a8fbf5fab",
   "metadata": {},
   "outputs": [
    {
     "name": "stdout",
     "output_type": "stream",
     "text": [
      "1\n",
      "8\n",
      "18\n"
     ]
    }
   ],
   "source": [
    "# 8) wap ask the user get the index of each 'a' in a given string\n",
    "# s='hai how are you i am good'\n",
    "# a=1 8 18\n",
    "\n",
    "s='hai how are you i am good'\n",
    "for i in range(len(s)):\n",
    "    if s[i]=='a':\n",
    "        print(i)"
   ]
  },
  {
   "cell_type": "code",
   "execution_count": 55,
   "id": "b02e0f43-b2f1-42e3-8605-9f07d7757a97",
   "metadata": {},
   "outputs": [
    {
     "data": {
      "text/plain": [
       "3"
      ]
     },
     "execution_count": 55,
     "metadata": {},
     "output_type": "execute_result"
    }
   ],
   "source": [
    "# 9) wap ask the user to get count of number of 'a' in a given string \n",
    "# using for- range \n",
    "s='hai how are you i am good'\n",
    "count=0\n",
    "for i in range(len(s)):\n",
    "    if s[i]=='a':\n",
    "        count=count+1\n",
    "count\n"
   ]
  },
  {
   "cell_type": "code",
   "execution_count": 33,
   "id": "63e58afd-a970-4967-998e-adfb2a51033d",
   "metadata": {},
   "outputs": [
    {
     "data": {
      "text/plain": [
       "27"
      ]
     },
     "execution_count": 33,
     "metadata": {},
     "output_type": "execute_result"
    }
   ],
   "source": [
    "# 10) wap ask the user get the sum of all index numbers of 'a'\n",
    "# 1+8+18=28\n",
    "s='hai how are you i am good'\n",
    "summ=0\n",
    "for i in range(len(s)):\n",
    "    if s[i]=='a':\n",
    "        summ=summ+i\n",
    "summ"
   ]
  },
  {
   "cell_type": "code",
   "execution_count": 43,
   "id": "a6da49dd-18b9-417f-80ca-74f2cf4ba905",
   "metadata": {},
   "outputs": [
    {
     "name": "stdout",
     "output_type": "stream",
     "text": [
      "a\n",
      "i\n",
      "o\n",
      "a\n",
      "e\n",
      "o\n",
      "u\n",
      "i\n",
      "a\n",
      "o\n",
      "o\n",
      "the number of vowels are:  11\n"
     ]
    }
   ],
   "source": [
    "# 11) wap ask the user get the vowels from a given string \n",
    "s='hai how are you i am good'\n",
    "count=0\n",
    "for i in range (len(s)):\n",
    "    if s[i]in 'aeiou':\n",
    "        print(s[i])\n",
    "        count=count+1\n",
    "print(\"the number of vowels are: \",count)"
   ]
  },
  {
   "cell_type": "code",
   "execution_count": 42,
   "id": "2d575a53-6a01-4360-a6a9-c7df7a0c5a2b",
   "metadata": {},
   "outputs": [
    {
     "name": "stdout",
     "output_type": "stream",
     "text": [
      "a\n",
      "i\n",
      "o\n",
      "e\n",
      "u\n",
      "the number of vowels are:  5\n"
     ]
    }
   ],
   "source": [
    "s='hai how are you i am good'\n",
    "s2=' '\n",
    "count=0\n",
    "for i in range (len(s)):\n",
    "    if s[i] not in s2:        # we are checkinh the letter is available in s\n",
    "        if s[i] in 'aeiou':\n",
    "            print(s[i])\n",
    "            s2=s2+s[i]\n",
    "            count=count+1\n",
    "print(\"the number of vowels are: \",count)"
   ]
  },
  {
   "cell_type": "code",
   "execution_count": 45,
   "id": "1e80ebd1-f1b2-4e51-9c25-9b9eaa177ecf",
   "metadata": {},
   "outputs": [
    {
     "name": "stdout",
     "output_type": "stream",
     "text": [
      "a\n",
      "i\n",
      "o\n",
      "e\n",
      "u\n",
      "the number of vowels are:  5\n"
     ]
    }
   ],
   "source": [
    "s='hai how are you i am good'\n",
    "s2=' '\n",
    "count=0\n",
    "for i in range (len(s)):\n",
    "    if s[i] not in s2 and s[i] in 'aeiou':\n",
    "            print(s[i])\n",
    "            s2=s2+s[i]\n",
    "            count=count+1\n",
    "print(\"the number of vowels are: \",count)\n",
    "\n",
    "\n",
    "# whenever two if statements are there then we can use and operator"
   ]
  },
  {
   "cell_type": "code",
   "execution_count": 65,
   "id": "b804e5bd-4028-4979-861e-a34e614351c7",
   "metadata": {},
   "outputs": [
    {
     "data": {
      "text/plain": [
       "0"
      ]
     },
     "execution_count": 65,
     "metadata": {},
     "output_type": "execute_result"
    }
   ],
   "source": [
    "# 14) string = 'ola ola ola'\n",
    "# number of ola =3\n",
    "s='ola ola ola'\n",
    "count=0\n",
    "for i in s:\n",
    "    if i=='ola':\n",
    "       count=count+1\n",
    "count"
   ]
  },
  {
   "cell_type": "code",
   "execution_count": null,
   "id": "d2ffde71-aa3c-4c42-b9f9-5e8afeb1fe2b",
   "metadata": {},
   "outputs": [],
   "source": [
    "# 15) str1= 'hello hello hello how how how how are you'\n",
    "# what is the most repeated word: how"
   ]
  },
  {
   "cell_type": "code",
   "execution_count": null,
   "id": "69666621-22b2-40e3-833c-570833b46082",
   "metadata": {},
   "outputs": [],
   "source": [
    "# 16) str1= 'hellooooo how aree u '\n",
    "# what is the maximum length of word :hellooooo\n",
    "# what is the maximum length of word :u"
   ]
  },
  {
   "cell_type": "code",
   "execution_count": null,
   "id": "fa1a9ed3-a204-48cf-bf7c-3680b3dcc197",
   "metadata": {},
   "outputs": [],
   "source": [
    "# 17) with out string sorted then sort the letters,"
   ]
  },
  {
   "cell_type": "markdown",
   "id": "f4bd1ee6-dd2d-432e-8511-332bb4e333dc",
   "metadata": {},
   "source": [
    "## slice"
   ]
  },
  {
   "cell_type": "markdown",
   "id": "e815d947-95b6-4bdb-b39b-2a3835a4ebdf",
   "metadata": {},
   "source": [
    "- we can cut into pieces\n",
    "\n",
    "- similar to range concept\n",
    "\n",
    "- start, stop, step, here also"
   ]
  },
  {
   "cell_type": "code",
   "execution_count": null,
   "id": "b550c710-a540-403e-8ede-7173eac7f1d9",
   "metadata": {},
   "outputs": [],
   "source": [
    "str1='hai how are you'\n"
   ]
  },
  {
   "cell_type": "code",
   "execution_count": null,
   "id": "611f43d5-44af-4ac3-995f-fd2341f4b90e",
   "metadata": {},
   "outputs": [],
   "source": [
    "-15-14-13 -12 -11  -9  -8 -7 -6  -5 -4   -3  -2  -1\n",
    "h   a   i       h   o   w    a   r   e    y   o   u\n",
    "0   1   2  3    4   5   6  7 8   9  10 11 12  13  14"
   ]
  },
  {
   "cell_type": "code",
   "execution_count": null,
   "id": "af8f450c-afb6-48dc-8ea9-7920e6f0539b",
   "metadata": {},
   "outputs": [],
   "source": [
    "str1=[start:stop:step]"
   ]
  },
  {
   "cell_type": "markdown",
   "id": "02d1f64d-e0e6-4432-9b57-bc896f7b697c",
   "metadata": {},
   "source": [
    "$pattern-1$\n",
    "\n",
    "**str1[start:]**\n",
    "\n",
    "- by default strat value = start only \n",
    "\n",
    "- last value = last only\n",
    "\n",
    "- step nothing mentioned means, it is a positive  direction and increment by 1"
   ]
  },
  {
   "cell_type": "code",
   "execution_count": 1,
   "id": "f07154d0-09ab-4f2d-972f-c69762a1b6e3",
   "metadata": {},
   "outputs": [
    {
     "data": {
      "text/plain": [
       "'ow are you'"
      ]
     },
     "execution_count": 1,
     "metadata": {},
     "output_type": "execute_result"
    }
   ],
   "source": [
    "str1='hai how are you'\n",
    "str1[5:]"
   ]
  },
  {
   "cell_type": "code",
   "execution_count": 3,
   "id": "cb1c4b95-6cdb-40c5-956e-36a87de44332",
   "metadata": {},
   "outputs": [
    {
     "data": {
      "text/plain": [
       "' are you'"
      ]
     },
     "execution_count": 3,
     "metadata": {},
     "output_type": "execute_result"
    }
   ],
   "source": [
    "str1='hai how are you'\n",
    "str1[7:]"
   ]
  },
  {
   "cell_type": "code",
   "execution_count": 4,
   "id": "e87a0588-a580-4779-82de-4b43d2456b81",
   "metadata": {},
   "outputs": [
    {
     "data": {
      "text/plain": [
       "'u'"
      ]
     },
     "execution_count": 4,
     "metadata": {},
     "output_type": "execute_result"
    }
   ],
   "source": [
    "str1='hai how are you'\n",
    "str1[14:]"
   ]
  },
  {
   "cell_type": "code",
   "execution_count": 5,
   "id": "dd91fc19-85e0-42b1-a755-28cc704682f1",
   "metadata": {},
   "outputs": [
    {
     "data": {
      "text/plain": [
       "'e you'"
      ]
     },
     "execution_count": 5,
     "metadata": {},
     "output_type": "execute_result"
    }
   ],
   "source": [
    "str1[-5:]"
   ]
  },
  {
   "cell_type": "code",
   "execution_count": 6,
   "id": "1daa3a96-a6c0-4e82-8e5a-e8836168e242",
   "metadata": {},
   "outputs": [
    {
     "data": {
      "text/plain": [
       "('ow are you', 'ow are you')"
      ]
     },
     "execution_count": 6,
     "metadata": {},
     "output_type": "execute_result"
    }
   ],
   "source": [
    "str1[5:],str1[-10:]"
   ]
  },
  {
   "cell_type": "code",
   "execution_count": 7,
   "id": "706093c1-cf5b-43de-8426-897d4be3f872",
   "metadata": {},
   "outputs": [
    {
     "data": {
      "text/plain": [
       "'u'"
      ]
     },
     "execution_count": 7,
     "metadata": {},
     "output_type": "execute_result"
    }
   ],
   "source": [
    "str1[-1:]"
   ]
  },
  {
   "cell_type": "code",
   "execution_count": null,
   "id": "f439dbf3-27ed-4e17-9696-e57cce08f639",
   "metadata": {},
   "outputs": [],
   "source": []
  },
  {
   "cell_type": "markdown",
   "id": "16583703-df91-4595-9846-95a7c16a0290",
   "metadata": {},
   "source": [
    "$pattern-2$\n",
    "\n",
    "- str1[start:stop]\n",
    "\n",
    "- start value means by default start only\n",
    "\n",
    "- step is not mentioned means positive direction\n",
    "\n",
    "- last=stop-1"
   ]
  },
  {
   "cell_type": "code",
   "execution_count": null,
   "id": "9cb06363-3ada-4690-8ee7-42972a9d1809",
   "metadata": {},
   "outputs": [],
   "source": [
    "-15-14-13 -12 -11  -9  -8 -7 -6  -5 -4   -3  -2  -1\n",
    "h   a   i       h   o   w    a   r   e    y   o   u\n",
    "0   1   2  3    4   5   6  7 8   9  10 11 12  13  14"
   ]
  },
  {
   "cell_type": "code",
   "execution_count": 8,
   "id": "fd17e827-d6f6-406b-91b0-c813dd21461b",
   "metadata": {},
   "outputs": [
    {
     "data": {
      "text/plain": [
       "' how are yo'"
      ]
     },
     "execution_count": 8,
     "metadata": {},
     "output_type": "execute_result"
    }
   ],
   "source": [
    "str1='hai how are you'\n",
    "str1[3:14]"
   ]
  },
  {
   "cell_type": "code",
   "execution_count": 9,
   "id": "92a9c9d6-cacc-4058-ba19-aec4e751a6ce",
   "metadata": {},
   "outputs": [
    {
     "data": {
      "text/plain": [
       "''"
      ]
     },
     "execution_count": 9,
     "metadata": {},
     "output_type": "execute_result"
    }
   ],
   "source": [
    "str1='hai how are you'\n",
    "str1[14:13]"
   ]
  },
  {
   "cell_type": "code",
   "execution_count": 10,
   "id": "73dfe65f-4e34-439d-80a3-c5420a2495e8",
   "metadata": {},
   "outputs": [
    {
     "data": {
      "text/plain": [
       "'ai ho'"
      ]
     },
     "execution_count": 10,
     "metadata": {},
     "output_type": "execute_result"
    }
   ],
   "source": [
    "str1='hai how are you'\n",
    "str1[-14:6]"
   ]
  },
  {
   "cell_type": "code",
   "execution_count": 14,
   "id": "3a65b45c-33ee-4eb4-9de2-74be854838ca",
   "metadata": {},
   "outputs": [
    {
     "data": {
      "text/plain": [
       "'e yo'"
      ]
     },
     "execution_count": 14,
     "metadata": {},
     "output_type": "execute_result"
    }
   ],
   "source": [
    "str1[-5:14]\n",
    "# start=5\n",
    "# last =14-1=13 positive"
   ]
  },
  {
   "cell_type": "code",
   "execution_count": 15,
   "id": "43450534-33ea-46ff-8a2d-fd8894d06c0c",
   "metadata": {},
   "outputs": [
    {
     "data": {
      "text/plain": [
       "''"
      ]
     },
     "execution_count": 15,
     "metadata": {},
     "output_type": "execute_result"
    }
   ],
   "source": [
    "str1[5:-14]"
   ]
  },
  {
   "cell_type": "code",
   "execution_count": 19,
   "id": "e053d10e-541c-42dc-bcb2-40baf816642c",
   "metadata": {},
   "outputs": [
    {
     "data": {
      "text/plain": [
       "'e'"
      ]
     },
     "execution_count": 19,
     "metadata": {},
     "output_type": "execute_result"
    }
   ],
   "source": [
    "str1[-5:-4]"
   ]
  },
  {
   "cell_type": "code",
   "execution_count": 21,
   "id": "4a8dea50-ddbd-415d-a964-be7d352f50fa",
   "metadata": {},
   "outputs": [
    {
     "data": {
      "text/plain": [
       "''"
      ]
     },
     "execution_count": 21,
     "metadata": {},
     "output_type": "execute_result"
    }
   ],
   "source": [
    "str1[-1:0]"
   ]
  },
  {
   "cell_type": "code",
   "execution_count": 22,
   "id": "4f093302-72f8-4ef0-a117-73eac47fa637",
   "metadata": {},
   "outputs": [
    {
     "data": {
      "text/plain": [
       "'hai how are yo'"
      ]
     },
     "execution_count": 22,
     "metadata": {},
     "output_type": "execute_result"
    }
   ],
   "source": [
    "str1[-15:14]"
   ]
  },
  {
   "cell_type": "code",
   "execution_count": 23,
   "id": "7c17646c-e00a-40cd-b89f-df42cb40f3e2",
   "metadata": {},
   "outputs": [
    {
     "data": {
      "text/plain": [
       "''"
      ]
     },
     "execution_count": 23,
     "metadata": {},
     "output_type": "execute_result"
    }
   ],
   "source": [
    "str1[-2:1]"
   ]
  },
  {
   "cell_type": "code",
   "execution_count": 25,
   "id": "68ec00cd-25dd-49ca-a441-512c7ef39e56",
   "metadata": {},
   "outputs": [
    {
     "data": {
      "text/plain": [
       "'how are yo'"
      ]
     },
     "execution_count": 25,
     "metadata": {},
     "output_type": "execute_result"
    }
   ],
   "source": [
    "str1[-11:14]"
   ]
  },
  {
   "cell_type": "code",
   "execution_count": 26,
   "id": "546745b2-e98a-406a-9b94-28a98f923895",
   "metadata": {},
   "outputs": [
    {
     "data": {
      "text/plain": [
       "'how are yo'"
      ]
     },
     "execution_count": 26,
     "metadata": {},
     "output_type": "execute_result"
    }
   ],
   "source": [
    "str1[4:-1]"
   ]
  },
  {
   "cell_type": "code",
   "execution_count": 27,
   "id": "eeafb444-7eb1-4f12-ae6c-22dfd880af95",
   "metadata": {},
   "outputs": [
    {
     "data": {
      "text/plain": [
       "'ow are you'"
      ]
     },
     "execution_count": 27,
     "metadata": {},
     "output_type": "execute_result"
    }
   ],
   "source": [
    "str1[5:500]"
   ]
  },
  {
   "cell_type": "markdown",
   "id": "bf582531-d30d-4565-8b04-d2fcc0329578",
   "metadata": {},
   "source": [
    "## Truncation behaviour\n",
    "\n",
    "- when ever string range is limited, but we provided unlimited number\n",
    "\n",
    "- string will consider till range we have\n",
    "\n",
    "- in the above example our range only 15 letters\n",
    "\n",
    "- we provided 500, then 500 will truncate to till 15 letters"
   ]
  },
  {
   "cell_type": "code",
   "execution_count": 28,
   "id": "6cc097e2-9070-430e-8256-1bc9f48403ae",
   "metadata": {},
   "outputs": [
    {
     "data": {
      "text/plain": [
       "''"
      ]
     },
     "execution_count": 28,
     "metadata": {},
     "output_type": "execute_result"
    }
   ],
   "source": [
    "str1[5:500]   # Answer\n",
    "str1[-500:500]  # Answer\n",
    "str1[-1:500]    # No answer\n",
    "str1[500:]     # no answer\n",
    "str1[-500:-100]  # no answer"
   ]
  },
  {
   "cell_type": "code",
   "execution_count": 34,
   "id": "357fe602-7bb9-4a56-8123-30b13885220b",
   "metadata": {},
   "outputs": [
    {
     "data": {
      "text/plain": [
       "'ow are you'"
      ]
     },
     "execution_count": 34,
     "metadata": {},
     "output_type": "execute_result"
    }
   ],
   "source": [
    "str1[5:500]"
   ]
  },
  {
   "cell_type": "code",
   "execution_count": 30,
   "id": "99b9d67c-87ad-4429-8e4d-53aa0c611e81",
   "metadata": {},
   "outputs": [
    {
     "data": {
      "text/plain": [
       "'hai how are you'"
      ]
     },
     "execution_count": 30,
     "metadata": {},
     "output_type": "execute_result"
    }
   ],
   "source": [
    "str1[-500:500]"
   ]
  },
  {
   "cell_type": "code",
   "execution_count": 31,
   "id": "69b2b039-ae7f-4797-8f59-bc241f3775a9",
   "metadata": {},
   "outputs": [
    {
     "data": {
      "text/plain": [
       "'u'"
      ]
     },
     "execution_count": 31,
     "metadata": {},
     "output_type": "execute_result"
    }
   ],
   "source": [
    "str1[-1:500]"
   ]
  },
  {
   "cell_type": "code",
   "execution_count": 32,
   "id": "b6d6ded5-430c-41dd-a9c2-5e75fee1a954",
   "metadata": {},
   "outputs": [
    {
     "data": {
      "text/plain": [
       "''"
      ]
     },
     "execution_count": 32,
     "metadata": {},
     "output_type": "execute_result"
    }
   ],
   "source": [
    "str1[500:]"
   ]
  },
  {
   "cell_type": "code",
   "execution_count": 35,
   "id": "9afbac1e-d128-4b5d-a1ae-02a1f84047a2",
   "metadata": {},
   "outputs": [
    {
     "data": {
      "text/plain": [
       "''"
      ]
     },
     "execution_count": 35,
     "metadata": {},
     "output_type": "execute_result"
    }
   ],
   "source": [
    "str1[-500:-100]"
   ]
  },
  {
   "cell_type": "markdown",
   "id": "64d89d35-af26-4d2c-8b51-9d0979d3727a",
   "metadata": {},
   "source": [
    "$pattern-3$\n",
    "**str1[start:stop:step]**\n",
    "\n",
    "- start value means start only\n",
    "\n",
    "- if step value =stop-1\n",
    "    - last value = stop-1\n",
    "\n",
    "- if step value negative\n",
    "    - last value = stop+1"
   ]
  },
  {
   "cell_type": "code",
   "execution_count": null,
   "id": "2a817b1c-c711-432e-92af-dc51ba9205bd",
   "metadata": {},
   "outputs": [],
   "source": [
    "-15-14-13 -12 -11  -9  -8 -7 -6  -5 -4   -3  -2  -1\n",
    "h   a   i       h   o   w    a   r   e    y   o   u\n",
    "0   1   2  3    4   5   6  7 8   9  10 11 12  13  14"
   ]
  },
  {
   "cell_type": "code",
   "execution_count": 37,
   "id": "6ca4d87e-9ed3-4d42-b220-d2ac4d613bbe",
   "metadata": {},
   "outputs": [
    {
     "data": {
      "text/plain": [
       "''"
      ]
     },
     "execution_count": 37,
     "metadata": {},
     "output_type": "execute_result"
    }
   ],
   "source": [
    "str1[2:13:2]\n",
    "str1[2:13:-2]\n",
    "str1[2:-13:2]\n",
    "str1[2:-13:-2]\n",
    "str1[-2:13:2]\n",
    "str1[-2:-13:2]\n",
    "str1[-2:-13:-2]\n",
    "str1[13:2:2]\n",
    "str1[-13:2:2]\n",
    "str1[-13:-2:2]\n",
    "str1[-13:-2:-2]\n",
    "str1[-13:2:-2]"
   ]
  },
  {
   "cell_type": "code",
   "execution_count": 38,
   "id": "fcc84eab-c460-40f1-b274-375b0a6ed640",
   "metadata": {},
   "outputs": [
    {
     "data": {
      "text/plain": [
       "'ihwaey'"
      ]
     },
     "execution_count": 38,
     "metadata": {},
     "output_type": "execute_result"
    }
   ],
   "source": [
    "#1\n",
    "str1[2:13:2]"
   ]
  },
  {
   "cell_type": "code",
   "execution_count": 39,
   "id": "06d03701-3d3e-4fcf-b12a-32e991a9878d",
   "metadata": {},
   "outputs": [
    {
     "data": {
      "text/plain": [
       "''"
      ]
     },
     "execution_count": 39,
     "metadata": {},
     "output_type": "execute_result"
    }
   ],
   "source": [
    "#2\n",
    "str1[2:13:-2]"
   ]
  },
  {
   "cell_type": "code",
   "execution_count": 40,
   "id": "d7d1c568-265f-4969-ae33-84dbe250c3e7",
   "metadata": {},
   "outputs": [
    {
     "data": {
      "text/plain": [
       "''"
      ]
     },
     "execution_count": 40,
     "metadata": {},
     "output_type": "execute_result"
    }
   ],
   "source": [
    "#3\n",
    "str1[2:-13:2]"
   ]
  },
  {
   "cell_type": "code",
   "execution_count": 41,
   "id": "788b4ddc-6eb2-426c-8e61-97e4949e6449",
   "metadata": {},
   "outputs": [
    {
     "data": {
      "text/plain": [
       "''"
      ]
     },
     "execution_count": 41,
     "metadata": {},
     "output_type": "execute_result"
    }
   ],
   "source": [
    "#4\n",
    "str1[2:-13:-2]"
   ]
  },
  {
   "cell_type": "code",
   "execution_count": 42,
   "id": "2263f887-741b-4317-97fc-8b2b42c21572",
   "metadata": {},
   "outputs": [
    {
     "data": {
      "text/plain": [
       "''"
      ]
     },
     "execution_count": 42,
     "metadata": {},
     "output_type": "execute_result"
    }
   ],
   "source": [
    "#5\n",
    "str1[-2:13:2]"
   ]
  },
  {
   "cell_type": "code",
   "execution_count": 43,
   "id": "bfdd7372-1653-4cd7-b276-3af6c780b62e",
   "metadata": {},
   "outputs": [
    {
     "data": {
      "text/plain": [
       "''"
      ]
     },
     "execution_count": 43,
     "metadata": {},
     "output_type": "execute_result"
    }
   ],
   "source": [
    "#6\n",
    "str1[-2:-13:2]"
   ]
  },
  {
   "cell_type": "code",
   "execution_count": 44,
   "id": "9e8d2479-8879-4d25-804f-8a8e0d9b8be0",
   "metadata": {},
   "outputs": [
    {
     "data": {
      "text/plain": [
       "'o r o '"
      ]
     },
     "execution_count": 44,
     "metadata": {},
     "output_type": "execute_result"
    }
   ],
   "source": [
    "#7\n",
    "str1[-2:-13:-2]"
   ]
  },
  {
   "cell_type": "code",
   "execution_count": 45,
   "id": "8ba585f7-9ce5-45c5-a075-877c9ce26308",
   "metadata": {},
   "outputs": [
    {
     "data": {
      "text/plain": [
       "''"
      ]
     },
     "execution_count": 45,
     "metadata": {},
     "output_type": "execute_result"
    }
   ],
   "source": [
    "#8\n",
    "str1[13:2:2]"
   ]
  },
  {
   "cell_type": "code",
   "execution_count": 46,
   "id": "55a32994-b666-4d39-bb83-fff6643ad0aa",
   "metadata": {},
   "outputs": [
    {
     "data": {
      "text/plain": [
       "''"
      ]
     },
     "execution_count": 46,
     "metadata": {},
     "output_type": "execute_result"
    }
   ],
   "source": [
    "#9 \n",
    "str1[-13:2:2]"
   ]
  },
  {
   "cell_type": "code",
   "execution_count": 47,
   "id": "501c3067-d899-49f3-87ab-28ccb8cc1c61",
   "metadata": {},
   "outputs": [
    {
     "data": {
      "text/plain": [
       "'ihwaey'"
      ]
     },
     "execution_count": 47,
     "metadata": {},
     "output_type": "execute_result"
    }
   ],
   "source": [
    "#10\n",
    "str1[-13:-2:2]"
   ]
  },
  {
   "cell_type": "code",
   "execution_count": 48,
   "id": "da897675-a094-45d2-8264-bebea3b81e62",
   "metadata": {},
   "outputs": [
    {
     "data": {
      "text/plain": [
       "''"
      ]
     },
     "execution_count": 48,
     "metadata": {},
     "output_type": "execute_result"
    }
   ],
   "source": [
    "#11\n",
    "str1[-13:-2:-2]"
   ]
  },
  {
   "cell_type": "code",
   "execution_count": 49,
   "id": "008e42c1-ca9c-4d93-acd5-7f045bddd26d",
   "metadata": {},
   "outputs": [
    {
     "data": {
      "text/plain": [
       "''"
      ]
     },
     "execution_count": 49,
     "metadata": {},
     "output_type": "execute_result"
    }
   ],
   "source": [
    "#12\n",
    "str1[-13:2:-2]"
   ]
  },
  {
   "cell_type": "code",
   "execution_count": 50,
   "id": "0113229d-9144-491b-9a95-6f5fb130c4f9",
   "metadata": {},
   "outputs": [
    {
     "ename": "SyntaxError",
     "evalue": "invalid syntax (1547292135.py, line 2)",
     "output_type": "error",
     "traceback": [
      "\u001b[1;36m  Cell \u001b[1;32mIn[50], line 2\u001b[1;36m\u001b[0m\n\u001b[1;33m    h   a   i       h   o   w    a   r   e    y   o   u\u001b[0m\n\u001b[1;37m        ^\u001b[0m\n\u001b[1;31mSyntaxError\u001b[0m\u001b[1;31m:\u001b[0m invalid syntax\n"
     ]
    }
   ],
   "source": [
    "-15-14-13 -12 -11  -9  -8 -7 -6  -5 -4   -3  -2  -1\n",
    "h   a   i       h   o   w    a   r   e    y   o   u\n",
    "0   1   2  3    4   5   6  7 8   9  10 11 12  13  14\n",
    "str1[:-5:-2]"
   ]
  },
  {
   "cell_type": "code",
   "execution_count": 2,
   "id": "cad5737d-2a6d-4c32-94fe-33544c8cc38a",
   "metadata": {},
   "outputs": [
    {
     "data": {
      "text/plain": [
       "'uyeaw'"
      ]
     },
     "execution_count": 2,
     "metadata": {},
     "output_type": "execute_result"
    }
   ],
   "source": [
    "str1='hai how are you'\n",
    "str1[:5:-2]"
   ]
  },
  {
   "cell_type": "code",
   "execution_count": 9,
   "id": "67fad437-5c29-4fee-b21f-ca3f23b4b18f",
   "metadata": {},
   "outputs": [
    {
     "data": {
      "text/plain": [
       "'uye'"
      ]
     },
     "execution_count": 9,
     "metadata": {},
     "output_type": "execute_result"
    }
   ],
   "source": [
    "str1[-1:-7:-2]"
   ]
  },
  {
   "cell_type": "code",
   "execution_count": 8,
   "id": "e4752a3d-dde4-462b-ab29-5520ddf2d267",
   "metadata": {},
   "outputs": [
    {
     "data": {
      "text/plain": [
       "''"
      ]
     },
     "execution_count": 8,
     "metadata": {},
     "output_type": "execute_result"
    }
   ],
   "source": [
    "str1[0:5:-2]"
   ]
  },
  {
   "cell_type": "code",
   "execution_count": 5,
   "id": "0125574a-390f-429a-bce5-2409ae61b705",
   "metadata": {},
   "outputs": [
    {
     "data": {
      "text/plain": [
       "'hih'"
      ]
     },
     "execution_count": 5,
     "metadata": {},
     "output_type": "execute_result"
    }
   ],
   "source": [
    "str1[:5:2]"
   ]
  },
  {
   "cell_type": "code",
   "execution_count": 55,
   "id": "d7038948-7ce2-4af7-82e6-082b5d9bdcdd",
   "metadata": {},
   "outputs": [
    {
     "data": {
      "text/plain": [
       "'hai how are you'"
      ]
     },
     "execution_count": 55,
     "metadata": {},
     "output_type": "execute_result"
    }
   ],
   "source": [
    "str1[:]"
   ]
  },
  {
   "cell_type": "code",
   "execution_count": 53,
   "id": "ee28bffd-fa6e-4a27-a692-9b47ad4db6eb",
   "metadata": {},
   "outputs": [
    {
     "data": {
      "text/plain": [
       "'hai how are you'"
      ]
     },
     "execution_count": 53,
     "metadata": {},
     "output_type": "execute_result"
    }
   ],
   "source": [
    "str1[::]"
   ]
  },
  {
   "cell_type": "code",
   "execution_count": 54,
   "id": "e507ea0f-18c4-4c10-872c-843352159f45",
   "metadata": {},
   "outputs": [
    {
     "data": {
      "text/plain": [
       "'uoy era woh iah'"
      ]
     },
     "execution_count": 54,
     "metadata": {},
     "output_type": "execute_result"
    }
   ],
   "source": [
    "str1[::-1]"
   ]
  },
  {
   "cell_type": "code",
   "execution_count": null,
   "id": "cf35e250-86ca-4ea6-9aea-aeb1f0d6a2c6",
   "metadata": {},
   "outputs": [],
   "source": []
  }
 ],
 "metadata": {
  "kernelspec": {
   "display_name": "Python 3 (ipykernel)",
   "language": "python",
   "name": "python3"
  },
  "language_info": {
   "codemirror_mode": {
    "name": "ipython",
    "version": 3
   },
   "file_extension": ".py",
   "mimetype": "text/x-python",
   "name": "python",
   "nbconvert_exporter": "python",
   "pygments_lexer": "ipython3",
   "version": "3.11.7"
  },
  "widgets": {
   "application/vnd.jupyter.widget-state+json": {
    "state": {},
    "version_major": 2,
    "version_minor": 0
   }
  }
 },
 "nbformat": 4,
 "nbformat_minor": 5
}
