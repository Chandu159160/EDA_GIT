{
 "cells": [
  {
   "cell_type": "markdown",
   "id": "e32e0092-ad5d-4f63-997b-a10219e1bb8d",
   "metadata": {},
   "source": [
    "# DICTIONARY\n",
    "\n",
    "- we already seen data types\n",
    "- string\n",
    "- list\n",
    "- tuple\n",
    "- set\n",
    "- dictionary\n",
    "- int float bool complex\n",
    "- eval is not a data type\n",
    "- range\n",
    "- bytes"
   ]
  },
  {
   "cell_type": "code",
   "execution_count": null,
   "id": "5cc37ad1-2a74-43b7-b645-cc94f01e50fe",
   "metadata": {},
   "outputs": [],
   "source": [
    "# By using lambda list reduce"
   ]
  },
  {
   "cell_type": "code",
   "execution_count": null,
   "id": "862ea6ca-657c-4be7-841d-8c6733230a97",
   "metadata": {},
   "outputs": [],
   "source": [
    "string=''\n",
    "list=[]\n",
    "tuple=()\n",
    "set={}\n",
    "dictionary={key:value}"
   ]
  },
  {
   "cell_type": "markdown",
   "id": "557d7498-9a3f-4b7c-971c-ff46fc4b3de2",
   "metadata": {},
   "source": [
    "$ZIP$"
   ]
  },
  {
   "cell_type": "code",
   "execution_count": 4,
   "id": "7745bf05-d8e0-4ad7-a552-db6878a7bdc9",
   "metadata": {},
   "outputs": [
    {
     "name": "stdout",
     "output_type": "stream",
     "text": [
      "ramesh 20\n",
      "suresh 25\n",
      "satish 30\n"
     ]
    }
   ],
   "source": [
    "names=['ramesh','suresh','satish']\n",
    "age=[20,25,30]\n",
    "\n",
    "for i,j in zip(names,age):\n",
    "    print(i,j)"
   ]
  },
  {
   "cell_type": "code",
   "execution_count": 7,
   "id": "e80db9d1-2ac2-43e3-a271-c301aac09b0e",
   "metadata": {},
   "outputs": [
    {
     "data": {
      "text/plain": [
       "[('ramesh', 20), ('suresh', 25), ('satish', 30)]"
      ]
     },
     "execution_count": 7,
     "metadata": {},
     "output_type": "execute_result"
    }
   ],
   "source": [
    "list(zip(names,age))"
   ]
  },
  {
   "cell_type": "code",
   "execution_count": null,
   "id": "9d6e3f80-342b-486c-a692-5c0fd3c431fd",
   "metadata": {},
   "outputs": [],
   "source": [
    "dict1={<key>:<value>}\n",
    "names=['ramesh','suresh','satish']\n",
    "age=[20,25,30]\n",
    "'ramesh' is the key ====== 20 its related value \n",
    "dict1={'ramesh':20,'suresh':25,'satish':30}             # dictionary"
   ]
  },
  {
   "cell_type": "code",
   "execution_count": 8,
   "id": "e39add04-4709-4e47-b2e2-fb7fd86845ba",
   "metadata": {},
   "outputs": [
    {
     "data": {
      "text/plain": [
       "dict"
      ]
     },
     "execution_count": 8,
     "metadata": {},
     "output_type": "execute_result"
    }
   ],
   "source": [
    "dict1={'ramesh':20,'suresh':25,'satish':30}\n",
    "type(dict1)"
   ]
  },
  {
   "cell_type": "code",
   "execution_count": null,
   "id": "ee19c2b6-293e-4975-aca2-c931a1cd7fa9",
   "metadata": {},
   "outputs": [],
   "source": [
    "#if the list are of different length?\n",
    "#if both lists are different length\n",
    "#zip will not work"
   ]
  },
  {
   "cell_type": "markdown",
   "id": "195a5858-d76d-4204-ae31-788605b7f17f",
   "metadata": {},
   "source": [
    "- REPRESENTATIONS\n",
    "\n",
    "- TYPE\n",
    "\n",
    "- LEN\n",
    "\n",
    "- max\n",
    "\n",
    "- min\n",
    "\n",
    "- SORTED\n",
    "\n",
    "- REVERSED\n",
    "\n",
    "- in \n",
    "\n",
    "- for loop using in\n",
    "\n",
    "- index\n",
    "\n",
    "- mutable\n",
    "\n",
    "- for loop using index\n",
    "\n",
    "- mutable \n",
    "\n",
    "- concatination\n",
    "\n",
    "- slice\n",
    "\n",
    "- methods\n"
   ]
  },
  {
   "cell_type": "code",
   "execution_count": 10,
   "id": "1104f75b-422d-45a5-b580-2f277c6bdbc2",
   "metadata": {},
   "outputs": [
    {
     "name": "stdout",
     "output_type": "stream",
     "text": [
      "{30: 'ramesh', 'suresh': 25, 'satish': 30}\n"
     ]
    }
   ],
   "source": [
    "dict1={30:'ramesh','suresh':25,'satish':30}\n",
    "print(dict1)"
   ]
  },
  {
   "cell_type": "code",
   "execution_count": 11,
   "id": "19b3a8b4-5522-43e4-b295-62cb46fe1f08",
   "metadata": {},
   "outputs": [
    {
     "name": "stdout",
     "output_type": "stream",
     "text": [
      "{(1, 2): 'ramesh', 'suresh': 25, 'satish': 30}\n"
     ]
    }
   ],
   "source": [
    "dict1={(1,2):'ramesh','suresh':25,'satish':30}\n",
    "print(dict1)"
   ]
  },
  {
   "cell_type": "code",
   "execution_count": 13,
   "id": "a369a7bc-87c4-4b44-b778-08d3ef24677e",
   "metadata": {},
   "outputs": [
    {
     "name": "stdout",
     "output_type": "stream",
     "text": [
      "{(1, 2): 'ramesh', 'suresh': 25, '1,2': (1, 2)}\n"
     ]
    }
   ],
   "source": [
    "dict1={(1,2):'ramesh','suresh':25,'1,2':(1,2)}\n",
    "print(dict1)"
   ]
  },
  {
   "cell_type": "code",
   "execution_count": 14,
   "id": "86bf0792-a17e-4634-8319-7580f8553bd5",
   "metadata": {},
   "outputs": [
    {
     "name": "stdout",
     "output_type": "stream",
     "text": [
      "{(1, 2): 'ramesh', 'suresh': 25.0, '1,2': (1, 2)}\n"
     ]
    }
   ],
   "source": [
    "dict1={(1,2):'ramesh','suresh':25.0,'1,2':(1,2)}\n",
    "print(dict1)"
   ]
  },
  {
   "cell_type": "code",
   "execution_count": 15,
   "id": "c770fb37-d811-4b11-b040-a5797fa1f89e",
   "metadata": {},
   "outputs": [
    {
     "name": "stdout",
     "output_type": "stream",
     "text": [
      "{(1, 2): True, 'suresh': 25.0, '1,2': (1, 2)}\n"
     ]
    }
   ],
   "source": [
    "dict1={(1,2):True,'suresh':25.0,'1,2':(1,2)}\n",
    "print(dict1)"
   ]
  },
  {
   "cell_type": "code",
   "execution_count": 16,
   "id": "8f5db7c6-4a1b-4a72-822f-0d6ea6688c90",
   "metadata": {},
   "outputs": [
    {
     "name": "stdout",
     "output_type": "stream",
     "text": [
      "{True: True, 'suresh': 25.0, '1,2': (1, 2)}\n"
     ]
    }
   ],
   "source": [
    "dict1={True:True,'suresh':25.0,'1,2':(1,2)}\n",
    "print(dict1)"
   ]
  },
  {
   "cell_type": "code",
   "execution_count": 17,
   "id": "d2c62018-694e-4304-be58-bf6a26ae10bf",
   "metadata": {},
   "outputs": [
    {
     "ename": "TypeError",
     "evalue": "unhashable type: 'set'",
     "output_type": "error",
     "traceback": [
      "\u001b[1;31m---------------------------------------------------------------------------\u001b[0m",
      "\u001b[1;31mTypeError\u001b[0m                                 Traceback (most recent call last)",
      "Cell \u001b[1;32mIn[17], line 1\u001b[0m\n\u001b[1;32m----> 1\u001b[0m dict1\u001b[38;5;241m=\u001b[39m{{\u001b[38;5;241m1\u001b[39m,\u001b[38;5;241m2\u001b[39m,\u001b[38;5;241m3\u001b[39m}:\u001b[38;5;28;01mTrue\u001b[39;00m,\u001b[38;5;124m'\u001b[39m\u001b[38;5;124msuresh\u001b[39m\u001b[38;5;124m'\u001b[39m:\u001b[38;5;241m25.0\u001b[39m,\u001b[38;5;124m'\u001b[39m\u001b[38;5;124m1,2\u001b[39m\u001b[38;5;124m'\u001b[39m:(\u001b[38;5;241m1\u001b[39m,\u001b[38;5;241m2\u001b[39m)}\n\u001b[0;32m      2\u001b[0m \u001b[38;5;28mprint\u001b[39m(dict1)\n",
      "\u001b[1;31mTypeError\u001b[0m: unhashable type: 'set'"
     ]
    }
   ],
   "source": [
    "dict1={{1,2,3}:True,'suresh':25.0,'1,2':(1,2)}\n",
    "print(dict1)"
   ]
  },
  {
   "cell_type": "code",
   "execution_count": 19,
   "id": "37a72883-a2f2-404f-a10a-d0d078d414e3",
   "metadata": {},
   "outputs": [
    {
     "data": {
      "text/plain": [
       "{'jay': 30}"
      ]
     },
     "execution_count": 19,
     "metadata": {},
     "output_type": "execute_result"
    }
   ],
   "source": [
    "d8={'jay':30,'jay':30}\n",
    "d8"
   ]
  },
  {
   "cell_type": "code",
   "execution_count": 20,
   "id": "5cb7cc9b-88b5-40ed-8e4b-cfadc575f240",
   "metadata": {},
   "outputs": [
    {
     "data": {
      "text/plain": [
       "{'jay': 30}"
      ]
     },
     "execution_count": 20,
     "metadata": {},
     "output_type": "execute_result"
    }
   ],
   "source": [
    "d9={'jay':45,'jay':30}\n",
    "d9"
   ]
  },
  {
   "cell_type": "code",
   "execution_count": null,
   "id": "f0e0f796-3d42-4c8c-9002-72f48794ad15",
   "metadata": {},
   "outputs": [],
   "source": [
    "d1={'Manish': 25, 'Shubam': 20, 'Govindh':15}\n",
    "d2={'Manish': '25', 'Shubam': '20', 'Govindh': '15'}\n",
    "d3={25: 'Manish', 20: 'Shubam', 15: 'Govindh'}\n",
    "d4={25:50}\n",
    "d5={'Fruites':['Apple', 'Cherry']}\n",
    "d6={['Apple', 'Cherry']: 'Fruites'}\n",
    "d7={('Apple', 'Cherry'): 'Fruites'}\n",
    "d8={'Ajay':25, 'Ajay':30}\n",
    "d9={25:'Ajay', 30: 'Ajay'}\n",
    "d10={'Fruites':{'mango':25}}"
   ]
  },
  {
   "cell_type": "markdown",
   "id": "529619d3-05ba-45d5-b044-4c5b03fd98d8",
   "metadata": {},
   "source": [
    "- **Keys are important**\n",
    "- keys have only latest value\n",
    "- no duplicate keys \n",
    "- keys should be only one\n",
    "- values can be duplicate\n",
    "- which means different keys can have same value\n",
    "- list can not be a key, because lists are mutable\n",
    "- tuple can be a key, because tuple are immutable"
   ]
  },
  {
   "cell_type": "code",
   "execution_count": null,
   "id": "feb03871-7bbd-43dd-b379-b08a75a94266",
   "metadata": {},
   "outputs": [],
   "source": [
    "d1={'Manish': 25, 'Shubam': 20, 'Govindh':15}\n",
    "d2={'Manish': '25', 'Shubam': '20', 'Govindh': '15'}\n",
    "d3={25: 'Manish', 20: 'Shubam', 15: 'Govindh'}\n",
    "d4={'Manish': 25, 'Shubam': '20', 'Govindh':15}\n",
    "d5={25: 'Manish', '20': 'Shubam', 15: 'Govindh'}\n",
    "d6={'Manish': 25, 'Shubam': 20, 'Govindh':20}\n",
    "d7={20:'Manish',20:'Subham',20:'Govindh'}"
   ]
  },
  {
   "cell_type": "code",
   "execution_count": 21,
   "id": "165dca7d-bcea-41bf-b69c-5195c4cbcdc7",
   "metadata": {},
   "outputs": [
    {
     "data": {
      "text/plain": [
       "'Shubam'"
      ]
     },
     "execution_count": 21,
     "metadata": {},
     "output_type": "execute_result"
    }
   ],
   "source": [
    "d1={'Manish': 25, 'Shubam': 20, 'Govindh':15}\n",
    "max(d1)"
   ]
  },
  {
   "cell_type": "code",
   "execution_count": 22,
   "id": "601644c8-b7a4-4755-a626-8f37801e02cb",
   "metadata": {},
   "outputs": [
    {
     "data": {
      "text/plain": [
       "'Govindh'"
      ]
     },
     "execution_count": 22,
     "metadata": {},
     "output_type": "execute_result"
    }
   ],
   "source": [
    "d2={'Manish': '25', 'Shubam': '20', 'Govindh': '15'}\n",
    "min(d2)"
   ]
  },
  {
   "cell_type": "code",
   "execution_count": null,
   "id": "d6b2879d-8718-4626-98bd-2e83469ae8af",
   "metadata": {},
   "outputs": [],
   "source": [
    "d3={25: 'Manish', 20: 'Shubam', 15: 'Govindh'}"
   ]
  },
  {
   "cell_type": "code",
   "execution_count": 2,
   "id": "8e0d1014-0064-4df3-8497-7680a0af349d",
   "metadata": {},
   "outputs": [
    {
     "data": {
      "text/plain": [
       "20"
      ]
     },
     "execution_count": 2,
     "metadata": {},
     "output_type": "execute_result"
    }
   ],
   "source": [
    "d7={20:'Manish',20:'Subham',20:'Govindh'}\n",
    "max(d7)"
   ]
  },
  {
   "cell_type": "code",
   "execution_count": 3,
   "id": "f2c2a351-941a-43fa-a43b-6cea89f6c50a",
   "metadata": {},
   "outputs": [
    {
     "data": {
      "text/plain": [
       "3"
      ]
     },
     "execution_count": 3,
     "metadata": {},
     "output_type": "execute_result"
    }
   ],
   "source": [
    "d1={'Manish': 25, 'Shubam': 20, 'Govindh':15}\n",
    "len(d1)"
   ]
  },
  {
   "cell_type": "code",
   "execution_count": 4,
   "id": "102b2b5a-8927-487a-a29b-1270eb63a6b0",
   "metadata": {},
   "outputs": [
    {
     "data": {
      "text/plain": [
       "'Govindh'"
      ]
     },
     "execution_count": 4,
     "metadata": {},
     "output_type": "execute_result"
    }
   ],
   "source": [
    "d1={'Manish': 25, 'Shubam': 20, 'Govindh':15}\n",
    "min(d1)"
   ]
  },
  {
   "cell_type": "code",
   "execution_count": 7,
   "id": "f7a53aed-26c4-430b-84da-16f4c35b069e",
   "metadata": {},
   "outputs": [
    {
     "data": {
      "text/plain": [
       "['Govindh', 'Manish', 'Shubam']"
      ]
     },
     "execution_count": 7,
     "metadata": {},
     "output_type": "execute_result"
    }
   ],
   "source": [
    "d1={'Manish': 25, 'Shubam': 20, 'Govindh':15}\n",
    "sorted(d1)"
   ]
  },
  {
   "cell_type": "code",
   "execution_count": 8,
   "id": "9f5cdf2a-3945-4a64-85e5-2ac6fcf464e7",
   "metadata": {},
   "outputs": [
    {
     "data": {
      "text/plain": [
       "<dict_reversekeyiterator at 0x27c09cee3e0>"
      ]
     },
     "execution_count": 8,
     "metadata": {},
     "output_type": "execute_result"
    }
   ],
   "source": [
    "d1={'Manish': 25, 'Shubam': 20, 'Govindh':15}\n",
    "reversed(d1)"
   ]
  },
  {
   "cell_type": "code",
   "execution_count": 9,
   "id": "7d23f221-e535-4f9c-bcb1-736599df929d",
   "metadata": {},
   "outputs": [
    {
     "name": "stdout",
     "output_type": "stream",
     "text": [
      "Manish\n",
      "Shubam\n",
      "Govindh\n"
     ]
    }
   ],
   "source": [
    "d1={'Manish': 25, 'Shubam': 20, 'Govindh':15}\n",
    "for i in d1:\n",
    "    print(i)"
   ]
  },
  {
   "cell_type": "code",
   "execution_count": 10,
   "id": "55c1b3de-9636-4798-b777-1107ee95638c",
   "metadata": {},
   "outputs": [
    {
     "data": {
      "text/plain": [
       "['Govindh', 'Shubam', 'Manish']"
      ]
     },
     "execution_count": 10,
     "metadata": {},
     "output_type": "execute_result"
    }
   ],
   "source": [
    "d1={'Manish': 25, 'Shubam': 20, 'Govindh':15}\n",
    "list(reversed(d1))"
   ]
  },
  {
   "cell_type": "markdown",
   "id": "e66006cc-1a94-4e30-93db-a85d1478612b",
   "metadata": {},
   "source": [
    "**Reversed**\n",
    "- you might have think dictionary will reverse\n",
    "- when you apply reversed, then you got to know\n",
    "- only keys will come in reverse "
   ]
  },
  {
   "cell_type": "code",
   "execution_count": 11,
   "id": "31d56777-d552-406c-9fbd-1ae121c6799a",
   "metadata": {},
   "outputs": [
    {
     "data": {
      "text/plain": [
       "['Govindh', 'Manish', 'Shubam']"
      ]
     },
     "execution_count": 11,
     "metadata": {},
     "output_type": "execute_result"
    }
   ],
   "source": [
    "d1={'Manish': 25, 'Shubam': 20, 'Govindh':15}\n",
    "list(sorted(d1))"
   ]
  },
  {
   "cell_type": "code",
   "execution_count": 15,
   "id": "fa27b322-24e5-4f84-9f45-43e51bc26d5b",
   "metadata": {},
   "outputs": [
    {
     "data": {
      "text/plain": [
       "['Shubam', 'Manish', 'Govindh']"
      ]
     },
     "execution_count": 15,
     "metadata": {},
     "output_type": "execute_result"
    }
   ],
   "source": [
    "d1={'Manish': 25, 'Shubam': 20, 'Govindh':15}\n",
    "list(sorted(d1,reverse=True))"
   ]
  },
  {
   "cell_type": "code",
   "execution_count": null,
   "id": "e947e447-3f8d-4b3b-9b82-a59e273ec76b",
   "metadata": {},
   "outputs": [],
   "source": [
    "d1={'Manish': 25, 'Shubam': 20, 'Govindh':15}\n"
   ]
  },
  {
   "cell_type": "code",
   "execution_count": 16,
   "id": "7d86812e-8a06-4520-83de-9454228c71d3",
   "metadata": {},
   "outputs": [
    {
     "data": {
      "text/plain": [
       "False"
      ]
     },
     "execution_count": 16,
     "metadata": {},
     "output_type": "execute_result"
    }
   ],
   "source": [
    "25 in d1"
   ]
  },
  {
   "cell_type": "code",
   "execution_count": 17,
   "id": "34d3cfcd-2562-45db-b6ec-bdd9efe4cedb",
   "metadata": {},
   "outputs": [
    {
     "data": {
      "text/plain": [
       "True"
      ]
     },
     "execution_count": 17,
     "metadata": {},
     "output_type": "execute_result"
    }
   ],
   "source": [
    "'Manish'in d1"
   ]
  },
  {
   "cell_type": "code",
   "execution_count": 19,
   "id": "5c105a22-44b5-48db-a5e2-3fd94deff158",
   "metadata": {},
   "outputs": [],
   "source": [
    "#**Index**\n",
    "d1={'Manish': 25, 'Shubam': 20, 'Govindh':15}\n",
    "# if you want retrive the values\n",
    "# python will never give \"Manish\":25\n",
    "d1=[0]"
   ]
  },
  {
   "cell_type": "code",
   "execution_count": 22,
   "id": "f2f8a093-c563-4b98-9554-37e69ca8ff91",
   "metadata": {},
   "outputs": [
    {
     "ename": "TypeError",
     "evalue": "list indices must be integers or slices, not str",
     "output_type": "error",
     "traceback": [
      "\u001b[1;31m---------------------------------------------------------------------------\u001b[0m",
      "\u001b[1;31mTypeError\u001b[0m                                 Traceback (most recent call last)",
      "Cell \u001b[1;32mIn[22], line 1\u001b[0m\n\u001b[1;32m----> 1\u001b[0m d1[\u001b[38;5;124m'\u001b[39m\u001b[38;5;124mManish\u001b[39m\u001b[38;5;124m'\u001b[39m]\n",
      "\u001b[1;31mTypeError\u001b[0m: list indices must be integers or slices, not str"
     ]
    }
   ],
   "source": [
    "d1['Manish']"
   ]
  },
  {
   "cell_type": "code",
   "execution_count": 1,
   "id": "9e420cdf-7c25-4659-ae79-273f8ce0f496",
   "metadata": {},
   "outputs": [
    {
     "data": {
      "text/plain": [
       "25"
      ]
     },
     "execution_count": 1,
     "metadata": {},
     "output_type": "execute_result"
    }
   ],
   "source": [
    "d1={'Manish': 25, 'Shubam': 20, 'Govindh':15}\n",
    "# dictionary is a key: value pair\n",
    "# we can not use index number directly \n",
    "# whenever you want to call a value, we will use key\n",
    "d1['Manish']"
   ]
  },
  {
   "cell_type": "code",
   "execution_count": 8,
   "id": "f9472f7f-bf23-4211-b9a4-aa18980fa82c",
   "metadata": {},
   "outputs": [
    {
     "name": "stdout",
     "output_type": "stream",
     "text": [
      "Manish has age 25\n",
      "Shubam has age 20\n",
      "Govindh has age 15\n"
     ]
    }
   ],
   "source": [
    "for i in d1:\n",
    "    print(f\"{i} has age {d1[i]}\")"
   ]
  },
  {
   "cell_type": "code",
   "execution_count": 11,
   "id": "a2c0be64-4e54-4216-a48d-86fde624d84f",
   "metadata": {},
   "outputs": [
    {
     "name": "stdout",
     "output_type": "stream",
     "text": [
      "Vignesh has age of 20\n",
      "Mohit has age of 25\n",
      "Nagesh has age of 30\n"
     ]
    }
   ],
   "source": [
    "names=['Vignesh','Mohit','Nagesh']\n",
    "age=[20,25,30]\n",
    "for i,j in zip(names,age):\n",
    "    print(f\"{i} has age of {j}\")"
   ]
  },
  {
   "cell_type": "code",
   "execution_count": 13,
   "id": "1a21638d-5c3e-493c-8242-2288866633ee",
   "metadata": {},
   "outputs": [
    {
     "name": "stdout",
     "output_type": "stream",
     "text": [
      "Manish has age 25\n",
      "Shubam has age 20\n",
      "Govindh has age 15\n"
     ]
    }
   ],
   "source": [
    "d1={'Manish': 25, 'Shubam': 20, 'Govindh':15}\n",
    "for i in d1:\n",
    "    print(f\"{i} has age {d1[i]}\")"
   ]
  },
  {
   "cell_type": "markdown",
   "id": "1841521b-549c-4328-af52-c876842d8fce",
   "metadata": {},
   "source": [
    "**Dictionary to list**"
   ]
  },
  {
   "cell_type": "code",
   "execution_count": 59,
   "id": "bbb6736a-582d-4793-a64c-9924d0f155d8",
   "metadata": {},
   "outputs": [
    {
     "data": {
      "text/plain": [
       "[25, 20, 15]"
      ]
     },
     "execution_count": 59,
     "metadata": {},
     "output_type": "execute_result"
    }
   ],
   "source": [
    "d1={'Manish': 25, 'Shubam': 20, 'Govindh':15}\n",
    "keys,values=[],[]\n",
    "for i in d1:\n",
    "    #print(i,d1[i])\n",
    "    keys.append(i)\n",
    "    values.append(d1[i])\n",
    "values"
   ]
  },
  {
   "cell_type": "code",
   "execution_count": null,
   "id": "12432bb5-bfeb-45ad-9e39-b51058788a4e",
   "metadata": {},
   "outputs": [],
   "source": [
    "keys=[i for i in d1]\n",
    "values=[d1[i] for i in d1]"
   ]
  },
  {
   "cell_type": "markdown",
   "id": "046802d9-c16c-4965-8c60-131ddf7e1c18",
   "metadata": {},
   "source": [
    "**create a empty list**"
   ]
  },
  {
   "cell_type": "code",
   "execution_count": 18,
   "id": "ba0320e4-ff1a-457d-80ee-2ac5c855e30d",
   "metadata": {},
   "outputs": [
    {
     "data": {
      "text/plain": [
       "[20]"
      ]
     },
     "execution_count": 18,
     "metadata": {},
     "output_type": "execute_result"
    }
   ],
   "source": [
    "l=[]\n",
    "l.append(20)\n",
    "l"
   ]
  },
  {
   "cell_type": "markdown",
   "id": "c728c8b1-1873-4fc9-b536-9de45d1e806e",
   "metadata": {},
   "source": [
    "**Empty string**"
   ]
  },
  {
   "cell_type": "code",
   "execution_count": 57,
   "id": "be557ed6-e6ba-47dc-81a2-f27028fa81ee",
   "metadata": {},
   "outputs": [
    {
     "data": {
      "text/plain": [
       "'a'"
      ]
     },
     "execution_count": 57,
     "metadata": {},
     "output_type": "execute_result"
    }
   ],
   "source": [
    "s=''\n",
    "s=s+'a'\n",
    "s"
   ]
  },
  {
   "cell_type": "markdown",
   "id": "0cf6e54a-f94b-4bbf-ae1e-c4145f306a8e",
   "metadata": {},
   "source": [
    "**empty dictionary**"
   ]
  },
  {
   "cell_type": "code",
   "execution_count": 21,
   "id": "15852d7f-06ce-4e3b-aa61-793c489c5c66",
   "metadata": {},
   "outputs": [
    {
     "data": {
      "text/plain": [
       "{'chandu': 20}"
      ]
     },
     "execution_count": 21,
     "metadata": {},
     "output_type": "execute_result"
    }
   ],
   "source": [
    "d={}\n",
    "d['chandu']=20\n",
    "d"
   ]
  },
  {
   "cell_type": "code",
   "execution_count": 22,
   "id": "6d8151d9-9f33-4606-b71e-e14431543832",
   "metadata": {},
   "outputs": [
    {
     "data": {
      "text/plain": [
       "{'Vignesh': 20, 'Mohit': 25, 'Nagesh': 30}"
      ]
     },
     "execution_count": 22,
     "metadata": {},
     "output_type": "execute_result"
    }
   ],
   "source": [
    "names=['Vignesh','Mohit','Nagesh']\n",
    "age=[20,25,30]\n",
    "d={}\n",
    "for i,j in zip(names,age):\n",
    "    d[i]=j\n",
    "d"
   ]
  },
  {
   "cell_type": "markdown",
   "id": "ea48449f-8371-4df9-b8d8-4ffb596ea15e",
   "metadata": {},
   "source": [
    "**string to list**"
   ]
  },
  {
   "cell_type": "code",
   "execution_count": 24,
   "id": "6451f109-a86c-42f7-bd99-4be3f7037c54",
   "metadata": {},
   "outputs": [
    {
     "data": {
      "text/plain": [
       "['hello', 'hai', 'hai', 'how', 'how', 'are', 'you']"
      ]
     },
     "execution_count": 24,
     "metadata": {},
     "output_type": "execute_result"
    }
   ],
   "source": [
    "s='hello hai hai how  how are you'\n",
    "s.split()"
   ]
  },
  {
   "cell_type": "markdown",
   "id": "12b88410-9d6f-4369-afa3-4cd49e6cc73a",
   "metadata": {},
   "source": [
    "**word frequency**"
   ]
  },
  {
   "cell_type": "code",
   "execution_count": null,
   "id": "0f2c6812-5228-404e-986c-c830341c8653",
   "metadata": {},
   "outputs": [],
   "source": [
    "# i/p s='hello hai hai how  how are you'\n",
    "# o/p {'hello':1,'hai':2,'how':2,'are':1,'you':2}\\\n",
    "# idea\n",
    "# step-1: split the string: list of words\n",
    "# step-2: iterate using the list \n",
    "#         each word will come apply the count\n",
    "#         word key, count became value \n",
    "# step-3: Make a dictionary"
   ]
  },
  {
   "cell_type": "code",
   "execution_count": 34,
   "id": "aa954785-9ce6-402d-9087-40d0e982f1f3",
   "metadata": {},
   "outputs": [
    {
     "data": {
      "text/plain": [
       "{'hello': 1, 'hai': 2, 'how': 2, 'are': 1, 'you': 1}"
      ]
     },
     "execution_count": 34,
     "metadata": {},
     "output_type": "execute_result"
    }
   ],
   "source": [
    "s='hello hai hai how  how are you'\n",
    "words_list=s.split()\n",
    "words_list\n",
    "dict1={}\n",
    "for word in words_list:\n",
    "    dict1[word]=s.count(word)\n",
    "dict1\n",
    "    "
   ]
  },
  {
   "cell_type": "markdown",
   "id": "ab58b462-3006-4ea7-b92a-1fea5eb50d33",
   "metadata": {},
   "source": [
    "# Mutable Immutable\n",
    "- Change the elements using index\n",
    "- But in dictionary there is no index\n",
    "- In dictionary we will change the value based on key only\n",
    "- Instead of using the index, change the values using key\n",
    "- if it is change it is Mutable\n",
    "- if it is not change it is immutable"
   ]
  },
  {
   "cell_type": "code",
   "execution_count": 35,
   "id": "f257f034-f65d-45a3-bad0-ec285802d62b",
   "metadata": {},
   "outputs": [
    {
     "data": {
      "text/plain": [
       "{'Manish': 25, 'Shubam': 22, 'Govindh': 15}"
      ]
     },
     "execution_count": 35,
     "metadata": {},
     "output_type": "execute_result"
    }
   ],
   "source": [
    "d1={'Manish': 25, 'Shubam': 20, 'Govindh':15}\n",
    "d1['Shubam']=22\n",
    "d1"
   ]
  },
  {
   "cell_type": "markdown",
   "id": "6ca95874-a14b-48ad-b63c-19d87687bb76",
   "metadata": {},
   "source": [
    "- list and dictioanry are mutable\n",
    "- tuple and strings are immutable\n",
    "- difference between list and tuple "
   ]
  },
  {
   "cell_type": "code",
   "execution_count": 37,
   "id": "7bf1e2d4-9f95-4f09-8fce-212cae7a3a29",
   "metadata": {},
   "outputs": [
    {
     "data": {
      "text/plain": [
       "'Mango'"
      ]
     },
     "execution_count": 37,
     "metadata": {},
     "output_type": "execute_result"
    }
   ],
   "source": [
    "d={'Fruits':['Mango']}\n",
    "d['Fruits'][0]"
   ]
  },
  {
   "cell_type": "code",
   "execution_count": 44,
   "id": "d35d31de-617d-45ff-a928-07fc9f7873c7",
   "metadata": {},
   "outputs": [
    {
     "data": {
      "text/plain": [
       "'Kashmir'"
      ]
     },
     "execution_count": 44,
     "metadata": {},
     "output_type": "execute_result"
    }
   ],
   "source": [
    "d={'Fruits':[{'Apple':['Kashmir']}]}\n",
    "d['Fruits'][0]['Apple'][0]"
   ]
  },
  {
   "cell_type": "code",
   "execution_count": 50,
   "id": "5e4c1f0c-86b5-485e-88d0-551cdcb16217",
   "metadata": {},
   "outputs": [
    {
     "data": {
      "text/plain": [
       "'India'"
      ]
     },
     "execution_count": 50,
     "metadata": {},
     "output_type": "execute_result"
    }
   ],
   "source": [
    "d={'Fruits':[{'Apple':{'Kashmir':['India']}}]}\n",
    "d['Fruits'][0]['Apple']['Kashmir'][0]"
   ]
  },
  {
   "cell_type": "code",
   "execution_count": 56,
   "id": "8fc7d98b-dc2c-4e76-9e20-5a74c5925645",
   "metadata": {},
   "outputs": [
    {
     "data": {
      "text/plain": [
       "{'Shambaji'}"
      ]
     },
     "execution_count": 56,
     "metadata": {},
     "output_type": "execute_result"
    }
   ],
   "source": [
    "d={'Fruits':{'Banginapalli':{'Mango':{'Nagpur':{'MH':{'Shivaji':{'Shambaji'}}}}}}}\n",
    "d['Fruits']['Banginapalli']['Mango']['Nagpur']['MH']['Shivaji']"
   ]
  },
  {
   "cell_type": "code",
   "execution_count": 65,
   "id": "78ab59ec-1994-432a-b114-852b322f7022",
   "metadata": {},
   "outputs": [
    {
     "name": "stdout",
     "output_type": "stream",
     "text": [
      "{20: 'Vignesh', 25: 'Mohit', 30: 'Nagesh'}\n"
     ]
    },
    {
     "ename": "NameError",
     "evalue": "name 'daddy' is not defined",
     "output_type": "error",
     "traceback": [
      "\u001b[1;31m---------------------------------------------------------------------------\u001b[0m",
      "\u001b[1;31mNameError\u001b[0m                                 Traceback (most recent call last)",
      "Cell \u001b[1;32mIn[65], line 7\u001b[0m\n\u001b[0;32m      5\u001b[0m     d[j]\u001b[38;5;241m=\u001b[39mi\n\u001b[0;32m      6\u001b[0m \u001b[38;5;28mprint\u001b[39m(d)\n\u001b[1;32m----> 7\u001b[0m d[\u001b[38;5;124m'\u001b[39m\u001b[38;5;124m25\u001b[39m\u001b[38;5;124m'\u001b[39m]\u001b[38;5;241m=\u001b[39mdaddy\n\u001b[0;32m      8\u001b[0m d\n",
      "\u001b[1;31mNameError\u001b[0m: name 'daddy' is not defined"
     ]
    }
   ],
   "source": [
    "names=['Vignesh','Mohit','Nagesh']\n",
    "age=[20,25,30]\n",
    "d={}\n",
    "for i,j in zip(names,age):\n",
    "    d[j]=i\n",
    "print(d)\n",
    "d['25']=daddy\n",
    "d"
   ]
  },
  {
   "cell_type": "code",
   "execution_count": 74,
   "id": "2559605a-2e9f-478b-8097-98fabdb94b03",
   "metadata": {},
   "outputs": [
    {
     "name": "stdout",
     "output_type": "stream",
     "text": [
      "{'Data': 68, 'science': 115, 'interdisciplinary': 105, 'academic': 97, 'field': 102, 'that': 116, 'uses': 117, 'statistics,': 115, 'scientific': 115, 'computing,': 99, 'methods,': 109, 'processes,': 112, 'visualization,': 118, 'algorithms': 97, 'and': 97, 'systems': 115, 'to': 116, 'extract': 101, 'or': 111, 'extrapolate': 101, 'knowledge': 107, 'insights': 105, 'from': 102, 'potentially': 112, 'noisy,': 110, 'structured,': 115, 'unstructured': 117, 'data.': 100, 'also': 97, 'integrates': 105, 'domain': 100, 'underlying': 117, 'applicatin.Data': 97, 'multifaceted': 109, 'can': 99, 'be': 98, 'described': 100, 'as': 97, 'science,': 115, 'research': 114, 'paradigm,': 112, 'method,': 109, 'discipline,': 100, 'workflow,': 119, 'profession.': 112} "
     ]
    }
   ],
   "source": [
    "string1=\"\"\"Data science is an interdisciplinary academic field that uses statistics,\n",
    "          scientific computing, scientific methods, processes, scientific visualization,\n",
    "          algorithms and systems to extract or extrapolate knowledge and insights from potentially noisy, structured, or unstructured data.\n",
    "         Data science also integrates domain knowledge from the underlying applicatin.Data science is multifaceted and can be described as a science,\n",
    "         a research paradigm, a research method, a discipline, a workflow, and a profession.\"\"\"\n",
    "\n",
    "#task -1: in the above sentence you need to remove a,an,is,the\n",
    "# task-2: Data first letter Ascii value: 68\n",
    "#         scince first letter Ascii value : 115\n",
    "\n",
    "#{'Data science':68,'science':115}\n",
    "sp=string1.split()\n",
    "l1=[]\n",
    "d1={}\n",
    "for i in range(len(sp)):\n",
    "    if sp[i] not in ('a','an','is','the'):\n",
    "        l1.append(sp[i])\n",
    "for i in range(len(l1)):\n",
    "    d1[l1[i]]=ord(l1[i][0])\n",
    "print(d1,end=\" \")"
   ]
  },
  {
   "cell_type": "code",
   "execution_count": null,
   "id": "1e13fc83-1c0b-4b92-8176-df79a1453174",
   "metadata": {},
   "outputs": [],
   "source": []
  },
  {
   "cell_type": "markdown",
   "id": "dc7f26b3-af25-40fe-b0b5-e8112ba3826d",
   "metadata": {},
   "source": [
    "**Dictionary methods**"
   ]
  },
  {
   "cell_type": "code",
   "execution_count": 75,
   "id": "c2f37077-a635-459f-8f40-83764a4e5c5a",
   "metadata": {},
   "outputs": [
    {
     "data": {
      "text/plain": [
       "['__class__',\n",
       " '__class_getitem__',\n",
       " '__contains__',\n",
       " '__delattr__',\n",
       " '__delitem__',\n",
       " '__dir__',\n",
       " '__doc__',\n",
       " '__eq__',\n",
       " '__format__',\n",
       " '__ge__',\n",
       " '__getattribute__',\n",
       " '__getitem__',\n",
       " '__getstate__',\n",
       " '__gt__',\n",
       " '__hash__',\n",
       " '__init__',\n",
       " '__init_subclass__',\n",
       " '__ior__',\n",
       " '__iter__',\n",
       " '__le__',\n",
       " '__len__',\n",
       " '__lt__',\n",
       " '__ne__',\n",
       " '__new__',\n",
       " '__or__',\n",
       " '__reduce__',\n",
       " '__reduce_ex__',\n",
       " '__repr__',\n",
       " '__reversed__',\n",
       " '__ror__',\n",
       " '__setattr__',\n",
       " '__setitem__',\n",
       " '__sizeof__',\n",
       " '__str__',\n",
       " '__subclasshook__',\n",
       " 'clear',\n",
       " 'copy',\n",
       " 'fromkeys',\n",
       " 'get',\n",
       " 'items',\n",
       " 'keys',\n",
       " 'pop',\n",
       " 'popitem',\n",
       " 'setdefault',\n",
       " 'update',\n",
       " 'values']"
      ]
     },
     "execution_count": 75,
     "metadata": {},
     "output_type": "execute_result"
    }
   ],
   "source": [
    "dir('') # string methods\n",
    "dir([]) # list methods\n",
    "dir(()) # tuple methods\n",
    "dir({}) # set methods "
   ]
  },
  {
   "cell_type": "markdown",
   "id": "729641a4-4cf2-4907-a135-efbe497267be",
   "metadata": {},
   "source": [
    "**items-keys-values**"
   ]
  },
  {
   "cell_type": "code",
   "execution_count": 79,
   "id": "a47bc5e4-2f29-4fb9-9a54-f1895353db62",
   "metadata": {},
   "outputs": [
    {
     "data": {
      "text/plain": [
       "dict_items([('Vignesh', 20), ('Mohit', 25), ('Nagesh', 30)])"
      ]
     },
     "execution_count": 79,
     "metadata": {},
     "output_type": "execute_result"
    }
   ],
   "source": [
    "d={'Vignesh': 20, 'Mohit': 25, 'Nagesh': 30}\n",
    "d.items()"
   ]
  },
  {
   "cell_type": "code",
   "execution_count": 80,
   "id": "baa3cb6b-fe1c-4e6c-a4ac-1fdf31c6588e",
   "metadata": {},
   "outputs": [
    {
     "data": {
      "text/plain": [
       "dict_keys(['Vignesh', 'Mohit', 'Nagesh'])"
      ]
     },
     "execution_count": 80,
     "metadata": {},
     "output_type": "execute_result"
    }
   ],
   "source": [
    "d={'Vignesh': 20, 'Mohit': 25, 'Nagesh': 30}\n",
    "d.keys()"
   ]
  },
  {
   "cell_type": "code",
   "execution_count": 81,
   "id": "0efeacc0-5889-45db-a1c1-f61b9ee47692",
   "metadata": {},
   "outputs": [
    {
     "data": {
      "text/plain": [
       "dict_values([20, 25, 30])"
      ]
     },
     "execution_count": 81,
     "metadata": {},
     "output_type": "execute_result"
    }
   ],
   "source": [
    "d={'Vignesh': 20, 'Mohit': 25, 'Nagesh': 30}\n",
    "d.values()"
   ]
  },
  {
   "cell_type": "code",
   "execution_count": 106,
   "id": "60c853f0-b7b1-4ecd-adb8-b3e6253b5098",
   "metadata": {},
   "outputs": [
    {
     "name": "stdout",
     "output_type": "stream",
     "text": [
      "Vignesh 20\n",
      "Mohit 25\n",
      "Nagesh 30\n"
     ]
    },
    {
     "data": {
      "text/plain": [
       "(['Vignesh', 'Mohit', 'Nagesh'], [20, 25, 30])"
      ]
     },
     "execution_count": 106,
     "metadata": {},
     "output_type": "execute_result"
    }
   ],
   "source": [
    "# We already learn how to make a list from dictioanry\n",
    "d={'Vignesh': 20, 'Mohit': 25, 'Nagesh': 30}\n",
    "keys,values=[],[]\n",
    "for i in d:\n",
    "    print(i,d[i])\n",
    "    keys.append(i)\n",
    "    values.append(d[i])\n",
    "keys,values"
   ]
  },
  {
   "cell_type": "markdown",
   "id": "13506b6d-4e66-41b3-8eac-d196bd2c50a3",
   "metadata": {},
   "source": [
    "- Dictioanry keys will give dictionary keys items in a list\n",
    "- It looks like a list, but it is not a list\n",
    "- which means we can not apply list methods\n",
    "- So we need to convert into list type,by using list type casting"
   ]
  },
  {
   "cell_type": "code",
   "execution_count": 83,
   "id": "6a773f41-27cb-4b0b-8755-ef1500763e2a",
   "metadata": {},
   "outputs": [
    {
     "data": {
      "text/plain": [
       "dict_keys(['Vignesh', 'Mohit', 'Nagesh'])"
      ]
     },
     "execution_count": 83,
     "metadata": {},
     "output_type": "execute_result"
    }
   ],
   "source": [
    "d.keys()"
   ]
  },
  {
   "cell_type": "code",
   "execution_count": 84,
   "id": "13deb3cc-7acb-4598-a445-5ac58fc394d6",
   "metadata": {},
   "outputs": [
    {
     "data": {
      "text/plain": [
       "['Vignesh', 'Mohit', 'Nagesh']"
      ]
     },
     "execution_count": 84,
     "metadata": {},
     "output_type": "execute_result"
    }
   ],
   "source": [
    "list(d.keys())"
   ]
  },
  {
   "cell_type": "code",
   "execution_count": 85,
   "id": "291493c7-b49e-4ae2-b810-a609b65bf833",
   "metadata": {},
   "outputs": [
    {
     "data": {
      "text/plain": [
       "dict_keys"
      ]
     },
     "execution_count": 85,
     "metadata": {},
     "output_type": "execute_result"
    }
   ],
   "source": [
    "type(d.keys())"
   ]
  },
  {
   "cell_type": "code",
   "execution_count": 86,
   "id": "271bdb53-2592-451b-a7ed-b97bde8333b8",
   "metadata": {},
   "outputs": [
    {
     "data": {
      "text/plain": [
       "(['Vignesh', 'Mohit', 'Nagesh'], [20, 25, 30])"
      ]
     },
     "execution_count": 86,
     "metadata": {},
     "output_type": "execute_result"
    }
   ],
   "source": [
    "d={'Vignesh': 20, 'Mohit': 25, 'Nagesh': 30}\n",
    "list(d.keys()),list(d.values())"
   ]
  },
  {
   "cell_type": "code",
   "execution_count": 87,
   "id": "b60cc5d8-d1dc-4b9a-abfa-c3948a093303",
   "metadata": {},
   "outputs": [
    {
     "data": {
      "text/plain": [
       "list[dict_keys(['Vignesh', 'Mohit', 'Nagesh'])]"
      ]
     },
     "execution_count": 87,
     "metadata": {},
     "output_type": "execute_result"
    }
   ],
   "source": [
    "list[d.keys()]"
   ]
  },
  {
   "cell_type": "code",
   "execution_count": 89,
   "id": "83b7587c-a625-4226-9084-a16e08cf900b",
   "metadata": {},
   "outputs": [
    {
     "data": {
      "text/plain": [
       "'Vignesh'"
      ]
     },
     "execution_count": 89,
     "metadata": {},
     "output_type": "execute_result"
    }
   ],
   "source": [
    "d={'Vignesh': 20, 'Mohit': 25, 'Nagesh': 30}\n",
    "list(d.keys())[0]"
   ]
  },
  {
   "cell_type": "code",
   "execution_count": 91,
   "id": "299e02c4-a364-450b-bfcc-4be7327c95b4",
   "metadata": {},
   "outputs": [
    {
     "name": "stdout",
     "output_type": "stream",
     "text": [
      "*list[dict_keys(['Vignesh', 'Mohit', 'Nagesh'])]\n"
     ]
    }
   ],
   "source": [
    "#list[d.keys()]\n",
    "for i in list[d.keys()]:\n",
    "    print(i)"
   ]
  },
  {
   "cell_type": "code",
   "execution_count": 93,
   "id": "46b3b179-8f35-4fdf-b4b9-94a568631fbd",
   "metadata": {},
   "outputs": [
    {
     "data": {
      "text/plain": [
       "types.GenericAlias"
      ]
     },
     "execution_count": 93,
     "metadata": {},
     "output_type": "execute_result"
    }
   ],
   "source": [
    "type(list[d.keys()])"
   ]
  },
  {
   "cell_type": "markdown",
   "id": "4a62804b-b088-4625-bbee-bf4d5ce7cc93",
   "metadata": {},
   "source": [
    "# Method-1"
   ]
  },
  {
   "cell_type": "code",
   "execution_count": 94,
   "id": "07cfc311-92b6-42a4-84bc-fb4998c0e12e",
   "metadata": {},
   "outputs": [
    {
     "name": "stdout",
     "output_type": "stream",
     "text": [
      "Vignesh 20\n",
      "Mohit 25\n",
      "Nagesh 30\n"
     ]
    },
    {
     "data": {
      "text/plain": [
       "(['Vignesh', 'Mohit', 'Nagesh'], [20, 25, 30])"
      ]
     },
     "execution_count": 94,
     "metadata": {},
     "output_type": "execute_result"
    }
   ],
   "source": [
    "# We already learn how to make a list from dictioanry\n",
    "d={'Vignesh': 20, 'Mohit': 25, 'Nagesh': 30}\n",
    "keys,values=[],[]\n",
    "for i in d:\n",
    "    print(i,d[i])\n",
    "    keys.append(i)\n",
    "    values.append(d[i])\n",
    "keys,values"
   ]
  },
  {
   "cell_type": "code",
   "execution_count": 95,
   "id": "f21e01d6-9e0c-4305-a558-1349d257c31c",
   "metadata": {},
   "outputs": [],
   "source": [
    "d={'Vignesh': 20, 'Mohit': 25, 'Nagesh': 30}\n",
    "keys=list(d.keys())\n",
    "values=list(d.values())"
   ]
  },
  {
   "cell_type": "code",
   "execution_count": 96,
   "id": "e22e01b3-cb25-4a81-a536-d748dfaadef1",
   "metadata": {},
   "outputs": [
    {
     "data": {
      "text/plain": [
       "dict_items([('Vignesh', 20), ('Mohit', 25), ('Nagesh', 30)])"
      ]
     },
     "execution_count": 96,
     "metadata": {},
     "output_type": "execute_result"
    }
   ],
   "source": [
    "d.items()"
   ]
  },
  {
   "cell_type": "code",
   "execution_count": 97,
   "id": "a6b9965e-0f83-4c55-9f0c-67562c56f41d",
   "metadata": {},
   "outputs": [
    {
     "name": "stdout",
     "output_type": "stream",
     "text": [
      "('Vignesh', 20)\n",
      "('Mohit', 25)\n",
      "('Nagesh', 30)\n"
     ]
    }
   ],
   "source": [
    "for i in d.items():\n",
    "    print(i)"
   ]
  },
  {
   "cell_type": "code",
   "execution_count": 103,
   "id": "8460f14f-ca32-4ae1-848f-f9643b50c60c",
   "metadata": {},
   "outputs": [],
   "source": [
    "a=10,20\n",
    "a,b=10,20\n",
    "#a,b=10"
   ]
  },
  {
   "cell_type": "markdown",
   "id": "f8017346-4b63-4db6-bc2a-1526d268158c",
   "metadata": {},
   "source": [
    "# method-3"
   ]
  },
  {
   "cell_type": "code",
   "execution_count": 102,
   "id": "32260b40-869d-407d-a1d0-279c218604c9",
   "metadata": {},
   "outputs": [
    {
     "name": "stdout",
     "output_type": "stream",
     "text": [
      "Vignesh 20\n",
      "Mohit 25\n",
      "Nagesh 30\n"
     ]
    },
    {
     "data": {
      "text/plain": [
       "(['Vignesh', 'Mohit', 'Nagesh'], [20, 25, 30])"
      ]
     },
     "execution_count": 102,
     "metadata": {},
     "output_type": "execute_result"
    }
   ],
   "source": [
    "keys,values=[],[]\n",
    "for i,j in d.items():\n",
    "    print(i,j)\n",
    "    keys.append(i)\n",
    "    values.append(j)\n",
    "keys,values"
   ]
  },
  {
   "cell_type": "code",
   "execution_count": 104,
   "id": "ec8950ae-15c6-4f7d-be9b-8d578f8bd6bd",
   "metadata": {},
   "outputs": [
    {
     "data": {
      "text/plain": [
       "['__class__',\n",
       " '__class_getitem__',\n",
       " '__contains__',\n",
       " '__delattr__',\n",
       " '__delitem__',\n",
       " '__dir__',\n",
       " '__doc__',\n",
       " '__eq__',\n",
       " '__format__',\n",
       " '__ge__',\n",
       " '__getattribute__',\n",
       " '__getitem__',\n",
       " '__getstate__',\n",
       " '__gt__',\n",
       " '__hash__',\n",
       " '__init__',\n",
       " '__init_subclass__',\n",
       " '__ior__',\n",
       " '__iter__',\n",
       " '__le__',\n",
       " '__len__',\n",
       " '__lt__',\n",
       " '__ne__',\n",
       " '__new__',\n",
       " '__or__',\n",
       " '__reduce__',\n",
       " '__reduce_ex__',\n",
       " '__repr__',\n",
       " '__reversed__',\n",
       " '__ror__',\n",
       " '__setattr__',\n",
       " '__setitem__',\n",
       " '__sizeof__',\n",
       " '__str__',\n",
       " '__subclasshook__',\n",
       " 'clear',\n",
       " 'copy',\n",
       " 'fromkeys',\n",
       " 'get',\n",
       " 'items',\n",
       " 'keys',\n",
       " 'pop',\n",
       " 'popitem',\n",
       " 'setdefault',\n",
       " 'update',\n",
       " 'values']"
      ]
     },
     "execution_count": 104,
     "metadata": {},
     "output_type": "execute_result"
    }
   ],
   "source": [
    "dir({})"
   ]
  },
  {
   "cell_type": "code",
   "execution_count": 2,
   "id": "68cad236-59b1-4d4c-a6bf-57e5d61f9572",
   "metadata": {},
   "outputs": [
    {
     "data": {
      "text/plain": [
       "{}"
      ]
     },
     "execution_count": 2,
     "metadata": {},
     "output_type": "execute_result"
    }
   ],
   "source": [
    "# Assignment\n",
    "d={'Vignesh': 20, 'Mohit': 25, 'Nagesh': 30}\n",
    "d.clear()\n",
    "d"
   ]
  },
  {
   "cell_type": "code",
   "execution_count": 3,
   "id": "5b9c4983-94fd-4da2-b6cf-1a7faaa3c9b6",
   "metadata": {},
   "outputs": [
    {
     "data": {
      "text/plain": [
       "{'Vignesh': 20, 'Mohit': 25, 'Nagesh': 30}"
      ]
     },
     "execution_count": 3,
     "metadata": {},
     "output_type": "execute_result"
    }
   ],
   "source": [
    "d={'Vignesh': 20, 'Mohit': 25, 'Nagesh': 30}\n",
    "d.copy()"
   ]
  },
  {
   "cell_type": "code",
   "execution_count": 7,
   "id": "86aee3ca-ef09-4060-bd74-94120e3efc33",
   "metadata": {},
   "outputs": [
    {
     "data": {
      "text/plain": [
       "{'V': 2, 'i': 2, 'g': 2, 'n': 2, 'e': 2, 's': 2, 'h': 2}"
      ]
     },
     "execution_count": 7,
     "metadata": {},
     "output_type": "execute_result"
    }
   ],
   "source": [
    "d={'Vignesh': 20, 'Mohit': 25, 'Nagesh': 30}\n",
    "d.fromkeys('Vignesh',2)"
   ]
  },
  {
   "cell_type": "code",
   "execution_count": 9,
   "id": "bea6840b-2a4d-465d-a3d0-5c819aaabc9b",
   "metadata": {},
   "outputs": [
    {
     "data": {
      "text/plain": [
       "25"
      ]
     },
     "execution_count": 9,
     "metadata": {},
     "output_type": "execute_result"
    }
   ],
   "source": [
    "d={'Vignesh': 20, 'Mohit': 25, 'Nagesh': 30}\n",
    "d.get('Mohit')"
   ]
  },
  {
   "cell_type": "code",
   "execution_count": 10,
   "id": "c0efeced-f8ac-4dd9-b3fa-d0b2f34f9302",
   "metadata": {},
   "outputs": [
    {
     "data": {
      "text/plain": [
       "dict_items([('Vignesh', 20), ('Mohit', 25), ('Nagesh', 30)])"
      ]
     },
     "execution_count": 10,
     "metadata": {},
     "output_type": "execute_result"
    }
   ],
   "source": [
    "d={'Vignesh': 20, 'Mohit': 25, 'Nagesh': 30}\n",
    "d.items()"
   ]
  },
  {
   "cell_type": "code",
   "execution_count": 15,
   "id": "a4aaa867-9828-43ac-a7c9-566283b57ab9",
   "metadata": {},
   "outputs": [
    {
     "name": "stdout",
     "output_type": "stream",
     "text": [
      "30\n"
     ]
    },
    {
     "data": {
      "text/plain": [
       "{'Vignesh': 20, 'Mohit': 25}"
      ]
     },
     "execution_count": 15,
     "metadata": {},
     "output_type": "execute_result"
    }
   ],
   "source": [
    "d={'Vignesh': 20, 'Mohit': 25, 'Nagesh': 30}\n",
    "print(d.pop('Nagesh'))\n",
    "d"
   ]
  },
  {
   "cell_type": "code",
   "execution_count": 17,
   "id": "673a9f8b-e89a-4081-b7b3-3805d8c4cc1d",
   "metadata": {},
   "outputs": [
    {
     "name": "stdout",
     "output_type": "stream",
     "text": [
      "('Nagesh', 30)\n"
     ]
    },
    {
     "data": {
      "text/plain": [
       "{'Vignesh': 20, 'Mohit': 25}"
      ]
     },
     "execution_count": 17,
     "metadata": {},
     "output_type": "execute_result"
    }
   ],
   "source": [
    "d={'Vignesh': 20, 'Mohit': 25, 'Nagesh': 30}\n",
    "print(d.popitem())\n",
    "d"
   ]
  },
  {
   "cell_type": "code",
   "execution_count": 25,
   "id": "3a72ec5b-7988-4182-9b38-79b90f9fcca6",
   "metadata": {},
   "outputs": [
    {
     "name": "stdout",
     "output_type": "stream",
     "text": [
      "25\n",
      "('Nagesh', 30)\n"
     ]
    },
    {
     "data": {
      "text/plain": [
       "{'Vignesh': 20, 'Mohit': 25}"
      ]
     },
     "execution_count": 25,
     "metadata": {},
     "output_type": "execute_result"
    }
   ],
   "source": [
    "d={'Vignesh': 20, 'Mohit': 25, 'Nagesh': 30}\n",
    "print(d.setdefault('Mohit'))\n",
    "print(d.popitem())\n",
    "d"
   ]
  },
  {
   "cell_type": "code",
   "execution_count": 35,
   "id": "62253ee3-7d88-49ff-bc4d-610fbaeb5b09",
   "metadata": {},
   "outputs": [
    {
     "data": {
      "text/plain": [
       "{'Vignesh': 20, 'Mohit': 25, 'Nagesh': 30, 'N': '2'}"
      ]
     },
     "execution_count": 35,
     "metadata": {},
     "output_type": "execute_result"
    }
   ],
   "source": [
    "d={'Vignesh': 20, 'Mohit': 25, 'Nagesh': 30}\n",
    "d.update(['N2'])\n",
    "d"
   ]
  },
  {
   "cell_type": "code",
   "execution_count": null,
   "id": "dddc1b76-48df-471a-8504-6465e2c997cd",
   "metadata": {},
   "outputs": [],
   "source": []
  }
 ],
 "metadata": {
  "kernelspec": {
   "display_name": "Python 3 (ipykernel)",
   "language": "python",
   "name": "python3"
  },
  "language_info": {
   "codemirror_mode": {
    "name": "ipython",
    "version": 3
   },
   "file_extension": ".py",
   "mimetype": "text/x-python",
   "name": "python",
   "nbconvert_exporter": "python",
   "pygments_lexer": "ipython3",
   "version": "3.11.7"
  },
  "widgets": {
   "application/vnd.jupyter.widget-state+json": {
    "state": {},
    "version_major": 2,
    "version_minor": 0
   }
  }
 },
 "nbformat": 4,
 "nbformat_minor": 5
}
